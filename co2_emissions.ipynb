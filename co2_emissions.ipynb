{
 "cells": [
  {
   "cell_type": "markdown",
   "id": "932797ac-46cc-4d11-b4f8-a452ed53bc60",
   "metadata": {},
   "source": [
    "# Car CO2 Emission Prediction: A Comparison of Regularization Methods on Linear Regression"
   ]
  },
  {
   "cell_type": "markdown",
   "id": "20e94b54-d376-4d71-ab06-972da5952d0a",
   "metadata": {
    "tags": []
   },
   "source": [
    "<img src=\"co2_emissions.jpg\" \n",
    "     align=\"center\" \n",
    "     width=\"600\" />"
   ]
  },
  {
   "cell_type": "markdown",
   "id": "63a83f42-0d04-4508-b667-a9acd812777f",
   "metadata": {},
   "source": [
    "# Introduction"
   ]
  },
  {
   "cell_type": "markdown",
   "id": "314f5daa-9847-43bc-bc55-5c86f8763ef7",
   "metadata": {},
   "source": [
    "**Project Overview**  \n",
    "In this project, we're trying to predict how much CO2 cars release. We're using a dataset from the Canadian Government that includes info like the car's make, model, fuel type, transmission, and gas consumption. The goal is to understand how these details relate to CO2 emissions and create a model to predict them.\n",
    "\n",
    "We care about the environment, and by studying these factors, we hope to help make cars more eco-friendly. Our project is part of a bigger effort to reduce the pollution caused by vehicles. We analyze the dataset to identify factors influencing CO2 emissions and building a model to predict emissions. The idea is to encourage practices that lead to a cleaner, healthier environment.\n",
    "\n",
    "**Objective of this Notebook**  \n",
    "The primary goal of this notebook is to provide a detailed implementation of regularization for linear regression, comparing their results and efficiencies. The implementation covers the need for regularization, explicit data analysis, and the challenges encountered during the process. Regularization is crucial especially for dealing with overfitting and improving generalization capabilities for models. \n",
    "\n",
    "**Data Preprocessing and Exploratory Data Analysis**  \n",
    "The dataset is clean, requiring minimal preprocessing. On the other hand, with its current form it will be massive after encoding. We carefully handled categorical features, which is a core part of this dataset and project. We looked for the best combination for the trade-off between cost of the model and the performance.\n",
    "\n",
    "The initial exploration revealed that 'fuel consumption per mile' exhibited the highest correlation with the target CO2 emissions. Engine size and cylinder count also showed strong correlations. However, the analysis highlighted the presence of multicollinearity. Addressing this issue involved dropping certain columns to enhance model performance.\n",
    "\n",
    "**Handling Categorical Features**  \n",
    "Due to the numerous unique values in categorical columns, encoding would expand the dataset to over 2000 columns. Initial attempts with simple and multiple linear regression proved ineffective due to the vast number of features. Although, regularization may help to decrease the complexity, working with 2000+ features is a costly way. That's the reason we regrouped some variables and removed some of them with feature engineering\n",
    "\n",
    "**Regularization Implementation**  \n",
    "After reducing the number of features Linear Regression was performing well enough but the idea of this notebook is to implement various regularization techniques. we implemented Ridge (L2) and Lasso (L1) regularization with Cross-validation and hyperparameter tuning to optimize model performance. Lasso regularization, in particular, were chosen due to its simplicity and slightly outperformed Ridge regularization and Mlutiple Linear Regression alone, with an impressive 0.99 R2 score and 5.41 RMSE on the test data.\n",
    "\n",
    "**Feature Selection**  \n",
    "Given the extensive feature set, feature importances were examined. Subsequently, a subset of features with different numbers from 3 to 66 was selected, drastically reducing the model complexity. Running Lasso regularization on this reduced feature set yielded remarkably similar results after a certain number of features. With a R2 score of 0.99 and 5.53 RMSE, the decision was made to finalize the model using only these 10 selected features. By the end, Fuel Consumption values of cars, found to be the most important factor effecting CO2 emissions. After Fuel Consumption, fule types and engine size effects most emission rates. \n",
    "\n",
    "**Conclusion**  \n",
    "This notebook delves into the intricate details of implementing and comparing various regression methods for CO2 emission prediction. From explicit data analysis to the successful application of regularization and feature selection, each step is thoroughly explored to provide a comprehensive understanding of the process.\n",
    "\n",
    "**Contact**  \n",
    "Reachme for more or discussion from [Linkedin](https://www.linkedin.com/in/fatih-calik-469961237/), [Github](https://github.com/fatih-ml) or [Kaggle](https://www.kaggle.com/fatihkgg)\n",
    "\n",
    "__Let's now dive into the intricacies of this implementation. You will find additional notes and explanations with various visualizations during the code implementations below__"
   ]
  },
  {
   "cell_type": "markdown",
   "id": "eecac9ce-4395-4d06-9402-f758615f087d",
   "metadata": {
    "tags": []
   },
   "source": [
    "# Exploratory Data Analysis and Feature Engineering"
   ]
  },
  {
   "cell_type": "markdown",
   "id": "655d9831-05af-4bd8-b325-da94591d7573",
   "metadata": {
    "tags": []
   },
   "source": [
    "## Importing dependencies and dataset"
   ]
  },
  {
   "cell_type": "code",
   "execution_count": 1,
   "id": "de17943f-9289-4236-9918-34960ef34637",
   "metadata": {
    "tags": []
   },
   "outputs": [],
   "source": [
    "import pandas as pd\n",
    "import numpy as np\n",
    "import matplotlib.pyplot as plt\n",
    "import seaborn as sns\n",
    "from summarytools import dfSummary\n",
    "import warnings\n",
    "warnings.filterwarnings('ignore')"
   ]
  },
  {
   "cell_type": "code",
   "execution_count": 2,
   "id": "06b7caca-74e9-428b-bfce-c40d1e81d7ff",
   "metadata": {
    "tags": []
   },
   "outputs": [
    {
     "data": {
      "text/html": [
       "<div>\n",
       "<style scoped>\n",
       "    .dataframe tbody tr th:only-of-type {\n",
       "        vertical-align: middle;\n",
       "    }\n",
       "\n",
       "    .dataframe tbody tr th {\n",
       "        vertical-align: top;\n",
       "    }\n",
       "\n",
       "    .dataframe thead th {\n",
       "        text-align: right;\n",
       "    }\n",
       "</style>\n",
       "<table border=\"1\" class=\"dataframe\">\n",
       "  <thead>\n",
       "    <tr style=\"text-align: right;\">\n",
       "      <th></th>\n",
       "      <th>Make</th>\n",
       "      <th>Model</th>\n",
       "      <th>Vehicle Class</th>\n",
       "      <th>Engine Size(L)</th>\n",
       "      <th>Cylinders</th>\n",
       "      <th>Transmission</th>\n",
       "      <th>Fuel Type</th>\n",
       "      <th>Fuel Consumption City (L/100 km)</th>\n",
       "      <th>Fuel Consumption Hwy (L/100 km)</th>\n",
       "      <th>Fuel Consumption Comb (L/100 km)</th>\n",
       "      <th>Fuel Consumption Comb (mpg)</th>\n",
       "      <th>CO2 Emissions(g/km)</th>\n",
       "    </tr>\n",
       "  </thead>\n",
       "  <tbody>\n",
       "    <tr>\n",
       "      <th>0</th>\n",
       "      <td>ACURA</td>\n",
       "      <td>ILX</td>\n",
       "      <td>COMPACT</td>\n",
       "      <td>2.0</td>\n",
       "      <td>4</td>\n",
       "      <td>AS5</td>\n",
       "      <td>Z</td>\n",
       "      <td>9.9</td>\n",
       "      <td>6.7</td>\n",
       "      <td>8.5</td>\n",
       "      <td>33</td>\n",
       "      <td>196</td>\n",
       "    </tr>\n",
       "    <tr>\n",
       "      <th>1</th>\n",
       "      <td>ACURA</td>\n",
       "      <td>ILX</td>\n",
       "      <td>COMPACT</td>\n",
       "      <td>2.4</td>\n",
       "      <td>4</td>\n",
       "      <td>M6</td>\n",
       "      <td>Z</td>\n",
       "      <td>11.2</td>\n",
       "      <td>7.7</td>\n",
       "      <td>9.6</td>\n",
       "      <td>29</td>\n",
       "      <td>221</td>\n",
       "    </tr>\n",
       "    <tr>\n",
       "      <th>2</th>\n",
       "      <td>ACURA</td>\n",
       "      <td>ILX HYBRID</td>\n",
       "      <td>COMPACT</td>\n",
       "      <td>1.5</td>\n",
       "      <td>4</td>\n",
       "      <td>AV7</td>\n",
       "      <td>Z</td>\n",
       "      <td>6.0</td>\n",
       "      <td>5.8</td>\n",
       "      <td>5.9</td>\n",
       "      <td>48</td>\n",
       "      <td>136</td>\n",
       "    </tr>\n",
       "  </tbody>\n",
       "</table>\n",
       "</div>"
      ],
      "text/plain": [
       "    Make       Model Vehicle Class  Engine Size(L)  Cylinders Transmission  \\\n",
       "0  ACURA         ILX       COMPACT             2.0          4          AS5   \n",
       "1  ACURA         ILX       COMPACT             2.4          4           M6   \n",
       "2  ACURA  ILX HYBRID       COMPACT             1.5          4          AV7   \n",
       "\n",
       "  Fuel Type  Fuel Consumption City (L/100 km)  \\\n",
       "0         Z                               9.9   \n",
       "1         Z                              11.2   \n",
       "2         Z                               6.0   \n",
       "\n",
       "   Fuel Consumption Hwy (L/100 km)  Fuel Consumption Comb (L/100 km)  \\\n",
       "0                              6.7                               8.5   \n",
       "1                              7.7                               9.6   \n",
       "2                              5.8                               5.9   \n",
       "\n",
       "   Fuel Consumption Comb (mpg)  CO2 Emissions(g/km)  \n",
       "0                           33                  196  \n",
       "1                           29                  221  \n",
       "2                           48                  136  "
      ]
     },
     "execution_count": 2,
     "metadata": {},
     "output_type": "execute_result"
    }
   ],
   "source": [
    "df = pd.read_csv('co2.csv')\n",
    "df.head(3)"
   ]
  },
  {
   "cell_type": "code",
   "execution_count": 3,
   "id": "e3e5dd92-832d-4fd1-9f4d-f35ecf0fba5c",
   "metadata": {
    "tags": []
   },
   "outputs": [
    {
     "data": {
      "text/plain": [
       "(7385, 12)"
      ]
     },
     "execution_count": 3,
     "metadata": {},
     "output_type": "execute_result"
    }
   ],
   "source": [
    "df.shape"
   ]
  },
  {
   "cell_type": "code",
   "execution_count": 4,
   "id": "8e8fb6fb-7b52-4f2a-bc12-e810cd5d44de",
   "metadata": {
    "tags": []
   },
   "outputs": [
    {
     "name": "stdout",
     "output_type": "stream",
     "text": [
      "<class 'pandas.core.frame.DataFrame'>\n",
      "RangeIndex: 7385 entries, 0 to 7384\n",
      "Data columns (total 12 columns):\n",
      " #   Column                            Non-Null Count  Dtype  \n",
      "---  ------                            --------------  -----  \n",
      " 0   Make                              7385 non-null   object \n",
      " 1   Model                             7385 non-null   object \n",
      " 2   Vehicle Class                     7385 non-null   object \n",
      " 3   Engine Size(L)                    7385 non-null   float64\n",
      " 4   Cylinders                         7385 non-null   int64  \n",
      " 5   Transmission                      7385 non-null   object \n",
      " 6   Fuel Type                         7385 non-null   object \n",
      " 7   Fuel Consumption City (L/100 km)  7385 non-null   float64\n",
      " 8   Fuel Consumption Hwy (L/100 km)   7385 non-null   float64\n",
      " 9   Fuel Consumption Comb (L/100 km)  7385 non-null   float64\n",
      " 10  Fuel Consumption Comb (mpg)       7385 non-null   int64  \n",
      " 11  CO2 Emissions(g/km)               7385 non-null   int64  \n",
      "dtypes: float64(4), int64(3), object(5)\n",
      "memory usage: 692.5+ KB\n"
     ]
    }
   ],
   "source": [
    "df.info()"
   ]
  },
  {
   "cell_type": "markdown",
   "id": "7c6b907f-8779-46f4-940c-c6b2e7df5cf0",
   "metadata": {},
   "source": [
    "## Checking Missing Values"
   ]
  },
  {
   "cell_type": "code",
   "execution_count": 5,
   "id": "896818c2-d95a-4ff7-87ad-1535ec29a094",
   "metadata": {
    "tags": []
   },
   "outputs": [
    {
     "data": {
      "text/plain": [
       "0"
      ]
     },
     "execution_count": 5,
     "metadata": {},
     "output_type": "execute_result"
    }
   ],
   "source": [
    "df.isnull().sum().sum()"
   ]
  },
  {
   "cell_type": "markdown",
   "id": "66d71934-7070-4f1f-b721-c8730fdd3c99",
   "metadata": {},
   "source": [
    "## Numeric Features: Exploring the relationships"
   ]
  },
  {
   "cell_type": "code",
   "execution_count": 6,
   "id": "641fb58f-b788-4010-828b-8af407086ac7",
   "metadata": {
    "tags": []
   },
   "outputs": [
    {
     "data": {
      "image/png": "[encoded data removed]",
      "text/plain": [
       "<Figure size 1000x600 with 2 Axes>"
      ]
     },
     "metadata": {},
     "output_type": "display_data"
    }
   ],
   "source": [
    "target_column = 'CO2 Emissions(g/km)'\n",
    "corr_matrix = df.corr()\n",
    "corr_with_target = corr_matrix[target_column].apply(np.abs).sort_values(ascending=False)\n",
    "\n",
    "\n",
    "plt.figure(figsize=(10, 6))\n",
    "sns.heatmap(corr_with_target.to_frame(), annot=True, cmap='coolwarm', cbar=True, vmin=-1, vmax=1)\n",
    "plt.title(f'Features Correlations with {target_column}')\n",
    "plt.show()"
   ]
  },
  {
   "cell_type": "markdown",
   "id": "5edd21d3-0406-403d-b197-9c3fdbf936cf",
   "metadata": {
    "tags": []
   },
   "source": [
    "## Checking Multi Collinearity"
   ]
  },
  {
   "cell_type": "code",
   "execution_count": 7,
   "id": "76f715dd-f3de-4b3d-8fdc-59f2eab9e55f",
   "metadata": {
    "tags": []
   },
   "outputs": [],
   "source": [
    "def color_red(val):\n",
    "    if val > 0.90 and val < 0.99:\n",
    "        color = 'red'\n",
    "    elif val >= 1:\n",
    "        color = 'blue'\n",
    "    else:\n",
    "        color = 'black'\n",
    "    return f'color: {color}'"
   ]
  },
  {
   "cell_type": "code",
   "execution_count": 8,
   "id": "757734c1-35fa-496d-aa45-69bc5f2f65bc",
   "metadata": {
    "tags": []
   },
   "outputs": [
    {
     "data": {
      "text/html": [
       "<style type=\"text/css\">\n",
       "#T_85529_row0_col0, #T_85529_row1_col1, #T_85529_row2_col2, #T_85529_row3_col3, #T_85529_row4_col4, #T_85529_row5_col5 {\n",
       "  color: blue;\n",
       "}\n",
       "#T_85529_row0_col1, #T_85529_row1_col0, #T_85529_row2_col3, #T_85529_row3_col2, #T_85529_row3_col4, #T_85529_row4_col3 {\n",
       "  color: red;\n",
       "}\n",
       "#T_85529_row0_col2, #T_85529_row0_col3, #T_85529_row0_col4, #T_85529_row0_col5, #T_85529_row1_col2, #T_85529_row1_col3, #T_85529_row1_col4, #T_85529_row1_col5, #T_85529_row2_col0, #T_85529_row2_col1, #T_85529_row2_col4, #T_85529_row2_col5, #T_85529_row3_col0, #T_85529_row3_col1, #T_85529_row3_col5, #T_85529_row4_col0, #T_85529_row4_col1, #T_85529_row4_col2, #T_85529_row4_col5, #T_85529_row5_col0, #T_85529_row5_col1, #T_85529_row5_col2, #T_85529_row5_col3, #T_85529_row5_col4 {\n",
       "  color: black;\n",
       "}\n",
       "</style>\n",
       "<table id=\"T_85529\">\n",
       "  <thead>\n",
       "    <tr>\n",
       "      <th class=\"blank level0\" >&nbsp;</th>\n",
       "      <th id=\"T_85529_level0_col0\" class=\"col_heading level0 col0\" >Engine Size(L)</th>\n",
       "      <th id=\"T_85529_level0_col1\" class=\"col_heading level0 col1\" >Cylinders</th>\n",
       "      <th id=\"T_85529_level0_col2\" class=\"col_heading level0 col2\" >Fuel Consumption City (L/100 km)</th>\n",
       "      <th id=\"T_85529_level0_col3\" class=\"col_heading level0 col3\" >Fuel Consumption Hwy (L/100 km)</th>\n",
       "      <th id=\"T_85529_level0_col4\" class=\"col_heading level0 col4\" >Fuel Consumption Comb (L/100 km)</th>\n",
       "      <th id=\"T_85529_level0_col5\" class=\"col_heading level0 col5\" >Fuel Consumption Comb (mpg)</th>\n",
       "    </tr>\n",
       "  </thead>\n",
       "  <tbody>\n",
       "    <tr>\n",
       "      <th id=\"T_85529_level0_row0\" class=\"row_heading level0 row0\" >Engine Size(L)</th>\n",
       "      <td id=\"T_85529_row0_col0\" class=\"data row0 col0\" >1.000000</td>\n",
       "      <td id=\"T_85529_row0_col1\" class=\"data row0 col1\" >0.927653</td>\n",
       "      <td id=\"T_85529_row0_col2\" class=\"data row0 col2\" >0.831379</td>\n",
       "      <td id=\"T_85529_row0_col3\" class=\"data row0 col3\" >0.761526</td>\n",
       "      <td id=\"T_85529_row0_col4\" class=\"data row0 col4\" >0.817060</td>\n",
       "      <td id=\"T_85529_row0_col5\" class=\"data row0 col5\" >-0.757854</td>\n",
       "    </tr>\n",
       "    <tr>\n",
       "      <th id=\"T_85529_level0_row1\" class=\"row_heading level0 row1\" >Cylinders</th>\n",
       "      <td id=\"T_85529_row1_col0\" class=\"data row1 col0\" >0.927653</td>\n",
       "      <td id=\"T_85529_row1_col1\" class=\"data row1 col1\" >1.000000</td>\n",
       "      <td id=\"T_85529_row1_col2\" class=\"data row1 col2\" >0.800702</td>\n",
       "      <td id=\"T_85529_row1_col3\" class=\"data row1 col3\" >0.715252</td>\n",
       "      <td id=\"T_85529_row1_col4\" class=\"data row1 col4\" >0.780534</td>\n",
       "      <td id=\"T_85529_row1_col5\" class=\"data row1 col5\" >-0.719321</td>\n",
       "    </tr>\n",
       "    <tr>\n",
       "      <th id=\"T_85529_level0_row2\" class=\"row_heading level0 row2\" >Fuel Consumption City (L/100 km)</th>\n",
       "      <td id=\"T_85529_row2_col0\" class=\"data row2 col0\" >0.831379</td>\n",
       "      <td id=\"T_85529_row2_col1\" class=\"data row2 col1\" >0.800702</td>\n",
       "      <td id=\"T_85529_row2_col2\" class=\"data row2 col2\" >1.000000</td>\n",
       "      <td id=\"T_85529_row2_col3\" class=\"data row2 col3\" >0.948180</td>\n",
       "      <td id=\"T_85529_row2_col4\" class=\"data row2 col4\" >0.993810</td>\n",
       "      <td id=\"T_85529_row2_col5\" class=\"data row2 col5\" >-0.927059</td>\n",
       "    </tr>\n",
       "    <tr>\n",
       "      <th id=\"T_85529_level0_row3\" class=\"row_heading level0 row3\" >Fuel Consumption Hwy (L/100 km)</th>\n",
       "      <td id=\"T_85529_row3_col0\" class=\"data row3 col0\" >0.761526</td>\n",
       "      <td id=\"T_85529_row3_col1\" class=\"data row3 col1\" >0.715252</td>\n",
       "      <td id=\"T_85529_row3_col2\" class=\"data row3 col2\" >0.948180</td>\n",
       "      <td id=\"T_85529_row3_col3\" class=\"data row3 col3\" >1.000000</td>\n",
       "      <td id=\"T_85529_row3_col4\" class=\"data row3 col4\" >0.977299</td>\n",
       "      <td id=\"T_85529_row3_col5\" class=\"data row3 col5\" >-0.890638</td>\n",
       "    </tr>\n",
       "    <tr>\n",
       "      <th id=\"T_85529_level0_row4\" class=\"row_heading level0 row4\" >Fuel Consumption Comb (L/100 km)</th>\n",
       "      <td id=\"T_85529_row4_col0\" class=\"data row4 col0\" >0.817060</td>\n",
       "      <td id=\"T_85529_row4_col1\" class=\"data row4 col1\" >0.780534</td>\n",
       "      <td id=\"T_85529_row4_col2\" class=\"data row4 col2\" >0.993810</td>\n",
       "      <td id=\"T_85529_row4_col3\" class=\"data row4 col3\" >0.977299</td>\n",
       "      <td id=\"T_85529_row4_col4\" class=\"data row4 col4\" >1.000000</td>\n",
       "      <td id=\"T_85529_row4_col5\" class=\"data row4 col5\" >-0.925576</td>\n",
       "    </tr>\n",
       "    <tr>\n",
       "      <th id=\"T_85529_level0_row5\" class=\"row_heading level0 row5\" >Fuel Consumption Comb (mpg)</th>\n",
       "      <td id=\"T_85529_row5_col0\" class=\"data row5 col0\" >-0.757854</td>\n",
       "      <td id=\"T_85529_row5_col1\" class=\"data row5 col1\" >-0.719321</td>\n",
       "      <td id=\"T_85529_row5_col2\" class=\"data row5 col2\" >-0.927059</td>\n",
       "      <td id=\"T_85529_row5_col3\" class=\"data row5 col3\" >-0.890638</td>\n",
       "      <td id=\"T_85529_row5_col4\" class=\"data row5 col4\" >-0.925576</td>\n",
       "      <td id=\"T_85529_row5_col5\" class=\"data row5 col5\" >1.000000</td>\n",
       "    </tr>\n",
       "  </tbody>\n",
       "</table>\n"
      ],
      "text/plain": [
       "<pandas.io.formats.style.Styler at 0x18f6450e500>"
      ]
     },
     "execution_count": 8,
     "metadata": {},
     "output_type": "execute_result"
    }
   ],
   "source": [
    "df.drop(columns=['CO2 Emissions(g/km)']).corr().style.applymap(color_red)"
   ]
  },
  {
   "cell_type": "markdown",
   "id": "aab44e6e-bda8-4a99-a85f-5234fbf11056",
   "metadata": {},
   "source": [
    "__* Cylinders and Engine Size is seen to be correlated a lot__  \n",
    "__* There are 3 correlated fuel consumption features, best to eliminate 2 of them__"
   ]
  },
  {
   "cell_type": "code",
   "execution_count": 9,
   "id": "84009124-2fd0-4efd-96c9-24075def24bb",
   "metadata": {
    "tags": []
   },
   "outputs": [],
   "source": [
    "df.drop(columns=['Cylinders', \n",
    "                   'Fuel Consumption Hwy (L/100 km)', \n",
    "                   'Fuel Consumption City (L/100 km)',\n",
    "                   'Fuel Consumption Comb (mpg)'\n",
    "                  ], inplace=True)"
   ]
  },
  {
   "cell_type": "markdown",
   "id": "f2f76ec0-0e37-4b4d-9433-58a3c5995e40",
   "metadata": {
    "tags": []
   },
   "source": [
    "## Exploring The distributions and possible Outliers"
   ]
  },
  {
   "cell_type": "code",
   "execution_count": 10,
   "id": "ff8ad744-9be6-4880-8505-aa21b9db0cb2",
   "metadata": {
    "tags": []
   },
   "outputs": [],
   "source": [
    "numerical_features = df.select_dtypes(include='number').columns"
   ]
  },
  {
   "cell_type": "code",
   "execution_count": 11,
   "id": "b8d699bf-84cb-44f1-9d04-d1ca14ef4d4f",
   "metadata": {
    "tags": []
   },
   "outputs": [
    {
     "data": {
      "image/png": "[encoded data removed]",
      "text/plain": [
       "<Figure size 1500x500 with 3 Axes>"
      ]
     },
     "metadata": {},
     "output_type": "display_data"
    }
   ],
   "source": [
    "# boxplot for numerical features\n",
    "fig, axes = plt.subplots(1, 3, figsize=(15, 5))\n",
    "axes = axes.flatten()\n",
    "\n",
    "# Iterate through the columns and create box plots\n",
    "for i, col in enumerate(numerical_features):\n",
    "    df[col].plot.box(ax=axes[i], whis=3)\n",
    "    axes[i].set_title(col)\n",
    "\n",
    "plt.tight_layout()\n",
    "plt.show()"
   ]
  },
  {
   "cell_type": "code",
   "execution_count": 12,
   "id": "f60b0f11-fa10-4305-a213-c799d37adbe3",
   "metadata": {
    "tags": []
   },
   "outputs": [
    {
     "data": {
      "text/plain": [
       "Engine Size(L)                      0.809181\n",
       "Fuel Consumption Comb (L/100 km)    0.893316\n",
       "CO2 Emissions(g/km)                 0.526094\n",
       "dtype: float64"
      ]
     },
     "execution_count": 12,
     "metadata": {},
     "output_type": "execute_result"
    }
   ],
   "source": [
    "df.skew()"
   ]
  },
  {
   "cell_type": "markdown",
   "id": "6826a438-170d-4975-b301-8d9a2f14547c",
   "metadata": {
    "tags": []
   },
   "source": [
    "__Altough fuel consumption seem to have outliers, it will not be a good idea to decide them as outliers, since there is a realtiy that some cars can consume a lot and those kind of cars can be available in real world and test data__  \n",
    "\n",
    "__Also , we check for distribution, since they are not very well normally distributed, but we cant clearly say they are skewed since the skewness are all below 1__"
   ]
  },
  {
   "cell_type": "markdown",
   "id": "adbac360-fd00-4406-a047-5a9dae99fbaf",
   "metadata": {},
   "source": [
    "## Categorical Features: Relationship with Target"
   ]
  },
  {
   "cell_type": "code",
   "execution_count": 13,
   "id": "15bb31f7-32d4-494a-9e61-d259ecda0b19",
   "metadata": {
    "tags": []
   },
   "outputs": [
    {
     "data": {
      "text/plain": [
       "Index(['Make', 'Model', 'Vehicle Class', 'Transmission', 'Fuel Type'], dtype='object')"
      ]
     },
     "execution_count": 13,
     "metadata": {},
     "output_type": "execute_result"
    }
   ],
   "source": [
    "categorical_features = df.select_dtypes(include='object').columns\n",
    "categorical_features"
   ]
  },
  {
   "cell_type": "code",
   "execution_count": 14,
   "id": "447a8687-b393-4299-b9af-2b269e3315c6",
   "metadata": {
    "tags": []
   },
   "outputs": [
    {
     "data": {
      "text/plain": [
       "2053"
      ]
     },
     "execution_count": 14,
     "metadata": {},
     "output_type": "execute_result"
    }
   ],
   "source": [
    "df['Model'].nunique()"
   ]
  },
  {
   "cell_type": "markdown",
   "id": "525124b7-ad4f-4b30-b681-89ed36a9aa60",
   "metadata": {},
   "source": [
    "__'Model' feature is causing cardinalty. Adds too much complexity to our model, especially killing linear regression model, and for other models it will cost a lot for time consumption, moreover its not adding much value to the model. Better to drop it__"
   ]
  },
  {
   "cell_type": "code",
   "execution_count": 15,
   "id": "937b1826-5fb0-4b17-b11c-c9bccb99e109",
   "metadata": {
    "tags": []
   },
   "outputs": [],
   "source": [
    "df.drop(columns=['Model'], inplace=True)"
   ]
  },
  {
   "cell_type": "code",
   "execution_count": 16,
   "id": "dafde601-36c7-4b95-991c-277870412110",
   "metadata": {
    "tags": []
   },
   "outputs": [],
   "source": [
    "# Make Some Changes for better reading in Fuel_type feature\n",
    "fuel_type_dict = {\n",
    "     'Z' : 'Premium Gasoline',\n",
    "     'D' : 'Diesel',\n",
    "     'X' : 'Regular Gasoline',\n",
    "     'E' : 'Ethanol (E85)',\n",
    "     'N' : 'Natural Gas'\n",
    "}\n",
    "\n",
    "df['Fuel Type'] = df['Fuel Type'].map(fuel_type_dict)"
   ]
  },
  {
   "cell_type": "code",
   "execution_count": 17,
   "id": "8ae55fdf-6826-47f3-ac14-d33968b4e9ee",
   "metadata": {
    "tags": []
   },
   "outputs": [],
   "source": [
    "# Define a function to determine the groups for Transmission Feature\n",
    "def classify_transmission(transmission):\n",
    "    if transmission.startswith('AM'):\n",
    "        return 'AM Group'\n",
    "    elif transmission.startswith('AV'):\n",
    "        return 'AV Group'\n",
    "    elif transmission.startswith('AS'):\n",
    "        return 'AS Group'\n",
    "    elif transmission.startswith('A'):\n",
    "        return 'A Group' if transmission not in ['AM', 'AS', 'AV'] else 'AM/AS/AV Group'\n",
    "    elif transmission.startswith('M'):\n",
    "        return 'M Group'\n",
    "    else:\n",
    "        return 'Other Group'\n",
    "\n",
    "# Apply the function to create a new 'Transmission Group' column\n",
    "df['Transmission Group'] = df['Transmission'].apply(classify_transmission)\n",
    "df.drop(columns=['Transmission'], inplace=True)"
   ]
  },
  {
   "cell_type": "code",
   "execution_count": 18,
   "id": "45cc4fd6-37db-4ee9-b130-412c7f9bf6d2",
   "metadata": {},
   "outputs": [
    {
     "data": {
      "image/png": "[encoded data removed]",
      "text/plain": [
       "<Figure size 1500x1200 with 4 Axes>"
      ]
     },
     "metadata": {},
     "output_type": "display_data"
    }
   ],
   "source": [
    "# barplot for categorical features\n",
    "categorical_features = df.select_dtypes(include='object').columns\n",
    "fig, axes = plt.subplots(2, 2, figsize=(15, 12))\n",
    "axes = axes.flatten()\n",
    "\n",
    "# Iterate through the columns and create box plots\n",
    "for i, col in enumerate(categorical_features):\n",
    "    sns.barplot(ax=axes[i], data=df, x=col, y=target_column)\n",
    "    axes[i].set_title(col)\n",
    "    axes[i].set_xticklabels(labels=list(df[col].unique()), rotation=90)\n",
    "\n",
    "plt.tight_layout()\n",
    "plt.show()"
   ]
  },
  {
   "cell_type": "markdown",
   "id": "fb77c4d6-51ad-42a6-acfc-0175fe33d481",
   "metadata": {},
   "source": [
    "* it is obviously seen that sport or luxury cars like Bugatti, Aston Martin, Bentley or Lamborginhi are coming first when it comes to CO2 emissions due to their big engines  \n",
    "* Smart, Mazda, mini, fiat are lowest CO2 makes  \n",
    "* Big cars like Vans, pickup trucks and SUVs are producing CO2 mostly, and also 2 seater sport cars are the second class  \n",
    "* Lets investigate more for any possible clues for transmission and fuel type"
   ]
  },
  {
   "cell_type": "code",
   "execution_count": 19,
   "id": "dc5f9960-6de3-43e0-99de-bcd9c86030c1",
   "metadata": {
    "tags": []
   },
   "outputs": [
    {
     "data": {
      "image/png": "[encoded data removed]",
      "text/plain": [
       "<Figure size 1500x500 with 2 Axes>"
      ]
     },
     "metadata": {},
     "output_type": "display_data"
    }
   ],
   "source": [
    "# boxplot for fuel Type and Transmission groups\n",
    "fig, axes = plt.subplots(1, 2, figsize=(15, 5 ))\n",
    "sns.boxplot(x='Fuel Type', y=target_column, data=df, whis=3, ax=axes[0])\n",
    "sns.boxplot(x='Transmission Group', y=target_column, data=df, whis=3, ax=axes[1])\n",
    "\n",
    "axes[0].set_xticklabels(labels=list(df['Fuel Type'].unique()), rotation=45)\n",
    "axes[1].set_xticklabels(labels=list(df['Transmission Group'].unique()), rotation=45)\n",
    "\n",
    "plt.show()"
   ]
  },
  {
   "cell_type": "markdown",
   "id": "a329d013-1a88-4e78-8ade-8b0ea5e685d4",
   "metadata": {},
   "source": [
    "* It's seen than lowest CO2 emission fuel type is natural gas and than regular gasoline. And Ethanol is the highest responsible for CO2 emissions  \n",
    "* Automatic transmission cars have a higher median CO2 emission value, whereas Continuously variable transmission cars are producing least CO2 emission"
   ]
  },
  {
   "cell_type": "markdown",
   "id": "a1b4696a-fa5d-4c65-8d9d-c18067248ed1",
   "metadata": {},
   "source": [
    "## Categorical Features: OneWay ANOVA Test"
   ]
  },
  {
   "cell_type": "code",
   "execution_count": 20,
   "id": "1513a856-c50d-471a-acfe-cddcf61c527b",
   "metadata": {
    "tags": []
   },
   "outputs": [
    {
     "data": {
      "text/html": [
       "<div>\n",
       "<style scoped>\n",
       "    .dataframe tbody tr th:only-of-type {\n",
       "        vertical-align: middle;\n",
       "    }\n",
       "\n",
       "    .dataframe tbody tr th {\n",
       "        vertical-align: top;\n",
       "    }\n",
       "\n",
       "    .dataframe thead th {\n",
       "        text-align: right;\n",
       "    }\n",
       "</style>\n",
       "<table border=\"1\" class=\"dataframe\">\n",
       "  <thead>\n",
       "    <tr style=\"text-align: right;\">\n",
       "      <th></th>\n",
       "      <th>Feature</th>\n",
       "      <th>F-Statistic</th>\n",
       "      <th>P-Value</th>\n",
       "    </tr>\n",
       "  </thead>\n",
       "  <tbody>\n",
       "    <tr>\n",
       "      <th>0</th>\n",
       "      <td>Make</td>\n",
       "      <td>106.800027</td>\n",
       "      <td>0.000000e+00</td>\n",
       "    </tr>\n",
       "    <tr>\n",
       "      <th>1</th>\n",
       "      <td>Vehicle Class</td>\n",
       "      <td>266.022809</td>\n",
       "      <td>0.000000e+00</td>\n",
       "    </tr>\n",
       "    <tr>\n",
       "      <th>2</th>\n",
       "      <td>Fuel Type</td>\n",
       "      <td>148.945560</td>\n",
       "      <td>1.062810e-122</td>\n",
       "    </tr>\n",
       "    <tr>\n",
       "      <th>3</th>\n",
       "      <td>Transmission Group</td>\n",
       "      <td>404.054153</td>\n",
       "      <td>2.944765e-315</td>\n",
       "    </tr>\n",
       "  </tbody>\n",
       "</table>\n",
       "</div>"
      ],
      "text/plain": [
       "              Feature  F-Statistic        P-Value\n",
       "0                Make   106.800027   0.000000e+00\n",
       "1       Vehicle Class   266.022809   0.000000e+00\n",
       "2           Fuel Type   148.945560  1.062810e-122\n",
       "3  Transmission Group   404.054153  2.944765e-315"
      ]
     },
     "execution_count": 20,
     "metadata": {},
     "output_type": "execute_result"
    }
   ],
   "source": [
    "from scipy.stats import f_oneway\n",
    "\n",
    "anova_results = pd.DataFrame(columns=['Feature', 'F-Statistic', 'P-Value'])\n",
    "\n",
    "# Perform ANOVA for each categorical feature\n",
    "for feature in categorical_features:\n",
    "    groups = [df[df[feature] == category][target_column] for category in df[feature].unique()]\n",
    "    f_stat, p_value = f_oneway(*groups)\n",
    "    \n",
    "    # Append results to the DataFrame\n",
    "    anova_results = anova_results.append({'Feature': feature, 'F-Statistic': f_stat, 'P-Value': p_value}, ignore_index=True)\n",
    "anova_results"
   ]
  },
  {
   "cell_type": "markdown",
   "id": "8dcbb4a0-f20d-46df-a6f6-baea22b9f061",
   "metadata": {},
   "source": [
    "__Since all the P-Values are very low (lower than 0.05) we can clearly reject the NULL hypothesis__  \n",
    "__there are significant differences in the means of the target variable among the categories of each categorical feature.__"
   ]
  },
  {
   "cell_type": "markdown",
   "id": "cf4dd27b-cbf0-4f32-8fb9-43ff62ee9921",
   "metadata": {
    "tags": []
   },
   "source": [
    "# Simple Linear Regression"
   ]
  },
  {
   "cell_type": "markdown",
   "id": "0f51ac6a-4f55-4ef5-83c2-09a3d4a1550e",
   "metadata": {
    "tags": []
   },
   "source": [
    "## Train test split"
   ]
  },
  {
   "cell_type": "code",
   "execution_count": 21,
   "id": "4b48dd6b-2667-465e-be58-f1a4fac2a6cc",
   "metadata": {
    "tags": []
   },
   "outputs": [],
   "source": [
    "from sklearn.model_selection import train_test_split,cross_validate\n",
    "from sklearn.linear_model import LinearRegression\n",
    "from functions import train_val"
   ]
  },
  {
   "cell_type": "code",
   "execution_count": 22,
   "id": "53595f0f-d572-40a9-a2cd-d5dc7a13f84a",
   "metadata": {
    "tags": []
   },
   "outputs": [],
   "source": [
    "X = df['Engine Size(L)'].to_frame()\n",
    "y = df['CO2 Emissions(g/km)']"
   ]
  },
  {
   "cell_type": "code",
   "execution_count": 23,
   "id": "12ab09e5-0260-46fd-97d6-1f00ee0fddab",
   "metadata": {
    "tags": []
   },
   "outputs": [],
   "source": [
    "X_train, X_test, y_train, y_test = train_test_split(X, y, test_size=0.1, random_state=42)"
   ]
  },
  {
   "cell_type": "markdown",
   "id": "bde86e3b-533d-4b89-8977-3c2db1f18e7f",
   "metadata": {},
   "source": [
    "## Model building & Evaluation"
   ]
  },
  {
   "cell_type": "code",
   "execution_count": 24,
   "id": "2765cf36-70dc-4d38-8eb5-715e53eea0aa",
   "metadata": {
    "tags": []
   },
   "outputs": [],
   "source": [
    "slinear_model = LinearRegression()"
   ]
  },
  {
   "cell_type": "code",
   "execution_count": 25,
   "id": "3726874e-68eb-4f52-8f46-44689b6dd799",
   "metadata": {
    "tags": []
   },
   "outputs": [
    {
     "data": {
      "text/html": [
       "<style>#sk-container-id-1 {color: black;background-color: white;}#sk-container-id-1 pre{padding: 0;}#sk-container-id-1 div.sk-toggleable {background-color: white;}#sk-container-id-1 label.sk-toggleable__label {cursor: pointer;display: block;width: 100%;margin-bottom: 0;padding: 0.3em;box-sizing: border-box;text-align: center;}#sk-container-id-1 label.sk-toggleable__label-arrow:before {content: \"▸\";float: left;margin-right: 0.25em;color: #696969;}#sk-container-id-1 label.sk-toggleable__label-arrow:hover:before {color: black;}#sk-container-id-1 div.sk-estimator:hover label.sk-toggleable__label-arrow:before {color: black;}#sk-container-id-1 div.sk-toggleable__content {max-height: 0;max-width: 0;overflow: hidden;text-align: left;background-color: #f0f8ff;}#sk-container-id-1 div.sk-toggleable__content pre {margin: 0.2em;color: black;border-radius: 0.25em;background-color: #f0f8ff;}#sk-container-id-1 input.sk-toggleable__control:checked~div.sk-toggleable__content {max-height: 200px;max-width: 100%;overflow: auto;}#sk-container-id-1 input.sk-toggleable__control:checked~label.sk-toggleable__label-arrow:before {content: \"▾\";}#sk-container-id-1 div.sk-estimator input.sk-toggleable__control:checked~label.sk-toggleable__label {background-color: #d4ebff;}#sk-container-id-1 div.sk-label input.sk-toggleable__control:checked~label.sk-toggleable__label {background-color: #d4ebff;}#sk-container-id-1 input.sk-hidden--visually {border: 0;clip: rect(1px 1px 1px 1px);clip: rect(1px, 1px, 1px, 1px);height: 1px;margin: -1px;overflow: hidden;padding: 0;position: absolute;width: 1px;}#sk-container-id-1 div.sk-estimator {font-family: monospace;background-color: #f0f8ff;border: 1px dotted black;border-radius: 0.25em;box-sizing: border-box;margin-bottom: 0.5em;}#sk-container-id-1 div.sk-estimator:hover {background-color: #d4ebff;}#sk-container-id-1 div.sk-parallel-item::after {content: \"\";width: 100%;border-bottom: 1px solid gray;flex-grow: 1;}#sk-container-id-1 div.sk-label:hover label.sk-toggleable__label {background-color: #d4ebff;}#sk-container-id-1 div.sk-serial::before {content: \"\";position: absolute;border-left: 1px solid gray;box-sizing: border-box;top: 0;bottom: 0;left: 50%;z-index: 0;}#sk-container-id-1 div.sk-serial {display: flex;flex-direction: column;align-items: center;background-color: white;padding-right: 0.2em;padding-left: 0.2em;position: relative;}#sk-container-id-1 div.sk-item {position: relative;z-index: 1;}#sk-container-id-1 div.sk-parallel {display: flex;align-items: stretch;justify-content: center;background-color: white;position: relative;}#sk-container-id-1 div.sk-item::before, #sk-container-id-1 div.sk-parallel-item::before {content: \"\";position: absolute;border-left: 1px solid gray;box-sizing: border-box;top: 0;bottom: 0;left: 50%;z-index: -1;}#sk-container-id-1 div.sk-parallel-item {display: flex;flex-direction: column;z-index: 1;position: relative;background-color: white;}#sk-container-id-1 div.sk-parallel-item:first-child::after {align-self: flex-end;width: 50%;}#sk-container-id-1 div.sk-parallel-item:last-child::after {align-self: flex-start;width: 50%;}#sk-container-id-1 div.sk-parallel-item:only-child::after {width: 0;}#sk-container-id-1 div.sk-dashed-wrapped {border: 1px dashed gray;margin: 0 0.4em 0.5em 0.4em;box-sizing: border-box;padding-bottom: 0.4em;background-color: white;}#sk-container-id-1 div.sk-label label {font-family: monospace;font-weight: bold;display: inline-block;line-height: 1.2em;}#sk-container-id-1 div.sk-label-container {text-align: center;}#sk-container-id-1 div.sk-container {/* jupyter's `normalize.less` sets `[hidden] { display: none; }` but bootstrap.min.css set `[hidden] { display: none !important; }` so we also need the `!important` here to be able to override the default hidden behavior on the sphinx rendered scikit-learn.org. See: https://github.com/scikit-learn/scikit-learn/issues/21755 */display: inline-block !important;position: relative;}#sk-container-id-1 div.sk-text-repr-fallback {display: none;}</style><div id=\"sk-container-id-1\" class=\"sk-top-container\"><div class=\"sk-text-repr-fallback\"><pre>LinearRegression()</pre><b>In a Jupyter environment, please rerun this cell to show the HTML representation or trust the notebook. <br />On GitHub, the HTML representation is unable to render, please try loading this page with nbviewer.org.</b></div><div class=\"sk-container\" hidden><div class=\"sk-item\"><div class=\"sk-estimator sk-toggleable\"><input class=\"sk-toggleable__control sk-hidden--visually\" id=\"sk-estimator-id-1\" type=\"checkbox\" checked><label for=\"sk-estimator-id-1\" class=\"sk-toggleable__label sk-toggleable__label-arrow\">LinearRegression</label><div class=\"sk-toggleable__content\"><pre>LinearRegression()</pre></div></div></div></div></div>"
      ],
      "text/plain": [
       "LinearRegression()"
      ]
     },
     "execution_count": 25,
     "metadata": {},
     "output_type": "execute_result"
    }
   ],
   "source": [
    "slinear_model.fit(X_train, y_train)"
   ]
  },
  {
   "cell_type": "code",
   "execution_count": 26,
   "id": "b83d0a05-826e-4279-b135-e7cf913770d1",
   "metadata": {
    "tags": []
   },
   "outputs": [
    {
     "data": {
      "text/html": [
       "<div>\n",
       "<style scoped>\n",
       "    .dataframe tbody tr th:only-of-type {\n",
       "        vertical-align: middle;\n",
       "    }\n",
       "\n",
       "    .dataframe tbody tr th {\n",
       "        vertical-align: top;\n",
       "    }\n",
       "\n",
       "    .dataframe thead th {\n",
       "        text-align: right;\n",
       "    }\n",
       "</style>\n",
       "<table border=\"1\" class=\"dataframe\">\n",
       "  <thead>\n",
       "    <tr style=\"text-align: right;\">\n",
       "      <th></th>\n",
       "      <th>simple_linear_model_train</th>\n",
       "      <th>simple_linear_model_test</th>\n",
       "    </tr>\n",
       "  </thead>\n",
       "  <tbody>\n",
       "    <tr>\n",
       "      <th>R2</th>\n",
       "      <td>0.724028</td>\n",
       "      <td>0.727279</td>\n",
       "    </tr>\n",
       "    <tr>\n",
       "      <th>mae</th>\n",
       "      <td>23.352349</td>\n",
       "      <td>22.719023</td>\n",
       "    </tr>\n",
       "    <tr>\n",
       "      <th>mse</th>\n",
       "      <td>944.918571</td>\n",
       "      <td>929.071052</td>\n",
       "    </tr>\n",
       "    <tr>\n",
       "      <th>rmse</th>\n",
       "      <td>30.739528</td>\n",
       "      <td>30.480667</td>\n",
       "    </tr>\n",
       "  </tbody>\n",
       "</table>\n",
       "</div>"
      ],
      "text/plain": [
       "      simple_linear_model_train  simple_linear_model_test\n",
       "R2                     0.724028                  0.727279\n",
       "mae                   23.352349                 22.719023\n",
       "mse                  944.918571                929.071052\n",
       "rmse                  30.739528                 30.480667"
      ]
     },
     "execution_count": 26,
     "metadata": {},
     "output_type": "execute_result"
    }
   ],
   "source": [
    "y_pred = slinear_model.predict(X_test)\n",
    "y_train_pred = slinear_model.predict(X_train)\n",
    "\n",
    "slm_scores = train_val(y_train, y_train_pred, y_test, y_pred, 'simple_linear_model')\n",
    "slm_scores"
   ]
  },
  {
   "cell_type": "markdown",
   "id": "6d154cc4-9d0a-4c22-868a-b6fd1aef0377",
   "metadata": {},
   "source": [
    "## Cross Validation"
   ]
  },
  {
   "cell_type": "code",
   "execution_count": 27,
   "id": "2c6ed727-48d5-45fe-a505-51569c40d619",
   "metadata": {
    "tags": []
   },
   "outputs": [
    {
     "name": "stdout",
     "output_type": "stream",
     "text": [
      "Average R2 Score: 0.7216803649427768\n",
      "Average -RMSE   : -30.74924026754696\n",
      "\n"
     ]
    },
    {
     "data": {
      "text/html": [
       "<div>\n",
       "<style scoped>\n",
       "    .dataframe tbody tr th:only-of-type {\n",
       "        vertical-align: middle;\n",
       "    }\n",
       "\n",
       "    .dataframe tbody tr th {\n",
       "        vertical-align: top;\n",
       "    }\n",
       "\n",
       "    .dataframe thead th {\n",
       "        text-align: right;\n",
       "    }\n",
       "</style>\n",
       "<table border=\"1\" class=\"dataframe\">\n",
       "  <thead>\n",
       "    <tr style=\"text-align: right;\">\n",
       "      <th></th>\n",
       "      <th>test_r2</th>\n",
       "      <th>test_neg_root_mean_squared_error</th>\n",
       "    </tr>\n",
       "  </thead>\n",
       "  <tbody>\n",
       "    <tr>\n",
       "      <th>0</th>\n",
       "      <td>0.749277</td>\n",
       "      <td>-30.897725</td>\n",
       "    </tr>\n",
       "    <tr>\n",
       "      <th>1</th>\n",
       "      <td>0.710061</td>\n",
       "      <td>-30.809007</td>\n",
       "    </tr>\n",
       "    <tr>\n",
       "      <th>2</th>\n",
       "      <td>0.739212</td>\n",
       "      <td>-29.486155</td>\n",
       "    </tr>\n",
       "    <tr>\n",
       "      <th>3</th>\n",
       "      <td>0.713703</td>\n",
       "      <td>-29.836394</td>\n",
       "    </tr>\n",
       "    <tr>\n",
       "      <th>4</th>\n",
       "      <td>0.696148</td>\n",
       "      <td>-32.716919</td>\n",
       "    </tr>\n",
       "  </tbody>\n",
       "</table>\n",
       "</div>"
      ],
      "text/plain": [
       "    test_r2  test_neg_root_mean_squared_error\n",
       "0  0.749277                        -30.897725\n",
       "1  0.710061                        -30.809007\n",
       "2  0.739212                        -29.486155\n",
       "3  0.713703                        -29.836394\n",
       "4  0.696148                        -32.716919"
      ]
     },
     "execution_count": 27,
     "metadata": {},
     "output_type": "execute_result"
    }
   ],
   "source": [
    "cv_metrics = ('r2', 'neg_root_mean_squared_error')\n",
    "slm_scores_cv = pd.DataFrame(cross_validate(slinear_model, X, y, cv=5, scoring= cv_metrics)).iloc[:, 2:]\n",
    "print(f\"Average R2 Score: {slm_scores_cv['test_r2'].mean()}\")\n",
    "print(f\"Average -RMSE   : {slm_scores_cv['test_neg_root_mean_squared_error'].mean()}\\n\")\n",
    "slm_scores_cv"
   ]
  },
  {
   "cell_type": "markdown",
   "id": "8b0633bd-8ea9-4d69-946a-bfb9e3b52748",
   "metadata": {
    "tags": []
   },
   "source": [
    "# Multiple Linear Regression"
   ]
  },
  {
   "cell_type": "markdown",
   "id": "9b437f60-570f-473f-83b1-771ef1b6461e",
   "metadata": {
    "tags": []
   },
   "source": [
    "## Train test Split - Encoding"
   ]
  },
  {
   "cell_type": "code",
   "execution_count": 28,
   "id": "fe7c3975-621a-4453-a2df-b0feb97eb579",
   "metadata": {
    "tags": []
   },
   "outputs": [],
   "source": [
    "from sklearn.preprocessing import StandardScaler"
   ]
  },
  {
   "cell_type": "code",
   "execution_count": 29,
   "id": "7c66c574-06c7-4cea-85af-4f3f60fe7dbd",
   "metadata": {
    "tags": []
   },
   "outputs": [
    {
     "name": "stdout",
     "output_type": "stream",
     "text": [
      "(7385, 6)    (7385,)\n"
     ]
    }
   ],
   "source": [
    "X = df.drop(columns=['CO2 Emissions(g/km)'])\n",
    "y = df['CO2 Emissions(g/km)']\n",
    "print(X.shape, '  ', y.shape)"
   ]
  },
  {
   "cell_type": "code",
   "execution_count": 30,
   "id": "7fd73c07-d58f-472f-88fd-82efc6c90e2e",
   "metadata": {
    "tags": []
   },
   "outputs": [],
   "source": [
    "categorical_features = X.select_dtypes(include='object').columns"
   ]
  },
  {
   "cell_type": "code",
   "execution_count": 31,
   "id": "19eaca0b-9c46-486e-86a8-526ad2b45fc6",
   "metadata": {
    "tags": []
   },
   "outputs": [
    {
     "data": {
      "text/plain": [
       "(7385, 66)"
      ]
     },
     "execution_count": 31,
     "metadata": {},
     "output_type": "execute_result"
    }
   ],
   "source": [
    "X_encoded = pd.get_dummies(X, columns=categorical_features, prefix=categorical_features, drop_first=True)\n",
    "X_encoded.shape"
   ]
  },
  {
   "cell_type": "code",
   "execution_count": 32,
   "id": "6f9e56fa-796e-4bb0-9e00-8d218fed7a2c",
   "metadata": {
    "tags": []
   },
   "outputs": [],
   "source": [
    "X_train, X_test, y_train, y_test = train_test_split(X_encoded, y, test_size=0.1, random_state=42)"
   ]
  },
  {
   "cell_type": "code",
   "execution_count": 33,
   "id": "be6d9b0d-234d-4cf5-9a0a-b2b1e6babf6c",
   "metadata": {
    "tags": []
   },
   "outputs": [],
   "source": [
    "scaler = StandardScaler()\n",
    "X_train_scaled = scaler.fit_transform(X_train)\n",
    "X_test_scaled = scaler.transform(X_test)"
   ]
  },
  {
   "cell_type": "markdown",
   "id": "d8ff1cf5-86bc-4234-94cc-5e81c0a5a52f",
   "metadata": {},
   "source": [
    "## Model Building & Evaluation"
   ]
  },
  {
   "cell_type": "code",
   "execution_count": 34,
   "id": "9a80ff9a-67d7-4287-a72f-d60c7c5a5cd9",
   "metadata": {
    "tags": []
   },
   "outputs": [],
   "source": [
    "mlinear_model = LinearRegression()"
   ]
  },
  {
   "cell_type": "code",
   "execution_count": 35,
   "id": "f3e88d76-076c-4375-b1ad-2d49d2a6afa8",
   "metadata": {
    "tags": []
   },
   "outputs": [
    {
     "data": {
      "text/html": [
       "<style>#sk-container-id-2 {color: black;background-color: white;}#sk-container-id-2 pre{padding: 0;}#sk-container-id-2 div.sk-toggleable {background-color: white;}#sk-container-id-2 label.sk-toggleable__label {cursor: pointer;display: block;width: 100%;margin-bottom: 0;padding: 0.3em;box-sizing: border-box;text-align: center;}#sk-container-id-2 label.sk-toggleable__label-arrow:before {content: \"▸\";float: left;margin-right: 0.25em;color: #696969;}#sk-container-id-2 label.sk-toggleable__label-arrow:hover:before {color: black;}#sk-container-id-2 div.sk-estimator:hover label.sk-toggleable__label-arrow:before {color: black;}#sk-container-id-2 div.sk-toggleable__content {max-height: 0;max-width: 0;overflow: hidden;text-align: left;background-color: #f0f8ff;}#sk-container-id-2 div.sk-toggleable__content pre {margin: 0.2em;color: black;border-radius: 0.25em;background-color: #f0f8ff;}#sk-container-id-2 input.sk-toggleable__control:checked~div.sk-toggleable__content {max-height: 200px;max-width: 100%;overflow: auto;}#sk-container-id-2 input.sk-toggleable__control:checked~label.sk-toggleable__label-arrow:before {content: \"▾\";}#sk-container-id-2 div.sk-estimator input.sk-toggleable__control:checked~label.sk-toggleable__label {background-color: #d4ebff;}#sk-container-id-2 div.sk-label input.sk-toggleable__control:checked~label.sk-toggleable__label {background-color: #d4ebff;}#sk-container-id-2 input.sk-hidden--visually {border: 0;clip: rect(1px 1px 1px 1px);clip: rect(1px, 1px, 1px, 1px);height: 1px;margin: -1px;overflow: hidden;padding: 0;position: absolute;width: 1px;}#sk-container-id-2 div.sk-estimator {font-family: monospace;background-color: #f0f8ff;border: 1px dotted black;border-radius: 0.25em;box-sizing: border-box;margin-bottom: 0.5em;}#sk-container-id-2 div.sk-estimator:hover {background-color: #d4ebff;}#sk-container-id-2 div.sk-parallel-item::after {content: \"\";width: 100%;border-bottom: 1px solid gray;flex-grow: 1;}#sk-container-id-2 div.sk-label:hover label.sk-toggleable__label {background-color: #d4ebff;}#sk-container-id-2 div.sk-serial::before {content: \"\";position: absolute;border-left: 1px solid gray;box-sizing: border-box;top: 0;bottom: 0;left: 50%;z-index: 0;}#sk-container-id-2 div.sk-serial {display: flex;flex-direction: column;align-items: center;background-color: white;padding-right: 0.2em;padding-left: 0.2em;position: relative;}#sk-container-id-2 div.sk-item {position: relative;z-index: 1;}#sk-container-id-2 div.sk-parallel {display: flex;align-items: stretch;justify-content: center;background-color: white;position: relative;}#sk-container-id-2 div.sk-item::before, #sk-container-id-2 div.sk-parallel-item::before {content: \"\";position: absolute;border-left: 1px solid gray;box-sizing: border-box;top: 0;bottom: 0;left: 50%;z-index: -1;}#sk-container-id-2 div.sk-parallel-item {display: flex;flex-direction: column;z-index: 1;position: relative;background-color: white;}#sk-container-id-2 div.sk-parallel-item:first-child::after {align-self: flex-end;width: 50%;}#sk-container-id-2 div.sk-parallel-item:last-child::after {align-self: flex-start;width: 50%;}#sk-container-id-2 div.sk-parallel-item:only-child::after {width: 0;}#sk-container-id-2 div.sk-dashed-wrapped {border: 1px dashed gray;margin: 0 0.4em 0.5em 0.4em;box-sizing: border-box;padding-bottom: 0.4em;background-color: white;}#sk-container-id-2 div.sk-label label {font-family: monospace;font-weight: bold;display: inline-block;line-height: 1.2em;}#sk-container-id-2 div.sk-label-container {text-align: center;}#sk-container-id-2 div.sk-container {/* jupyter's `normalize.less` sets `[hidden] { display: none; }` but bootstrap.min.css set `[hidden] { display: none !important; }` so we also need the `!important` here to be able to override the default hidden behavior on the sphinx rendered scikit-learn.org. See: https://github.com/scikit-learn/scikit-learn/issues/21755 */display: inline-block !important;position: relative;}#sk-container-id-2 div.sk-text-repr-fallback {display: none;}</style><div id=\"sk-container-id-2\" class=\"sk-top-container\"><div class=\"sk-text-repr-fallback\"><pre>LinearRegression()</pre><b>In a Jupyter environment, please rerun this cell to show the HTML representation or trust the notebook. <br />On GitHub, the HTML representation is unable to render, please try loading this page with nbviewer.org.</b></div><div class=\"sk-container\" hidden><div class=\"sk-item\"><div class=\"sk-estimator sk-toggleable\"><input class=\"sk-toggleable__control sk-hidden--visually\" id=\"sk-estimator-id-2\" type=\"checkbox\" checked><label for=\"sk-estimator-id-2\" class=\"sk-toggleable__label sk-toggleable__label-arrow\">LinearRegression</label><div class=\"sk-toggleable__content\"><pre>LinearRegression()</pre></div></div></div></div></div>"
      ],
      "text/plain": [
       "LinearRegression()"
      ]
     },
     "execution_count": 35,
     "metadata": {},
     "output_type": "execute_result"
    }
   ],
   "source": [
    "mlinear_model.fit(X_train_scaled, y_train)"
   ]
  },
  {
   "cell_type": "code",
   "execution_count": 36,
   "id": "9169f7b7-dba0-43c1-83b9-13711085173f",
   "metadata": {
    "tags": []
   },
   "outputs": [
    {
     "data": {
      "text/html": [
       "<div>\n",
       "<style scoped>\n",
       "    .dataframe tbody tr th:only-of-type {\n",
       "        vertical-align: middle;\n",
       "    }\n",
       "\n",
       "    .dataframe tbody tr th {\n",
       "        vertical-align: top;\n",
       "    }\n",
       "\n",
       "    .dataframe thead th {\n",
       "        text-align: right;\n",
       "    }\n",
       "</style>\n",
       "<table border=\"1\" class=\"dataframe\">\n",
       "  <thead>\n",
       "    <tr style=\"text-align: right;\">\n",
       "      <th></th>\n",
       "      <th>multiple_linear_model_train</th>\n",
       "      <th>multiple_linear_model_test</th>\n",
       "    </tr>\n",
       "  </thead>\n",
       "  <tbody>\n",
       "    <tr>\n",
       "      <th>R2</th>\n",
       "      <td>0.992745</td>\n",
       "      <td>0.991407</td>\n",
       "    </tr>\n",
       "    <tr>\n",
       "      <th>mae</th>\n",
       "      <td>2.932452</td>\n",
       "      <td>3.044878</td>\n",
       "    </tr>\n",
       "    <tr>\n",
       "      <th>mse</th>\n",
       "      <td>24.839278</td>\n",
       "      <td>29.273172</td>\n",
       "    </tr>\n",
       "    <tr>\n",
       "      <th>rmse</th>\n",
       "      <td>4.983902</td>\n",
       "      <td>5.410469</td>\n",
       "    </tr>\n",
       "  </tbody>\n",
       "</table>\n",
       "</div>"
      ],
      "text/plain": [
       "      multiple_linear_model_train  multiple_linear_model_test\n",
       "R2                       0.992745                    0.991407\n",
       "mae                      2.932452                    3.044878\n",
       "mse                     24.839278                   29.273172\n",
       "rmse                     4.983902                    5.410469"
      ]
     },
     "execution_count": 36,
     "metadata": {},
     "output_type": "execute_result"
    }
   ],
   "source": [
    "y_pred = mlinear_model.predict(X_test_scaled)\n",
    "y_train_pred = mlinear_model.predict(X_train_scaled)\n",
    "\n",
    "mlm_scores = train_val(y_train, y_train_pred, y_test, y_pred, 'multiple_linear_model')\n",
    "mlm_scores"
   ]
  },
  {
   "cell_type": "markdown",
   "id": "d3b6cae7-f67b-43b1-98b8-286f83c2055d",
   "metadata": {},
   "source": [
    "## Cross Validation"
   ]
  },
  {
   "cell_type": "code",
   "execution_count": 37,
   "id": "62357d23-4858-4ea5-84ce-45220ec2316b",
   "metadata": {},
   "outputs": [
    {
     "name": "stdout",
     "output_type": "stream",
     "text": [
      "Average R2 Score: 0.9908574463198297\n",
      "Average -RMSE   : -5.257999276340027\n",
      "\n"
     ]
    },
    {
     "data": {
      "text/html": [
       "<div>\n",
       "<style scoped>\n",
       "    .dataframe tbody tr th:only-of-type {\n",
       "        vertical-align: middle;\n",
       "    }\n",
       "\n",
       "    .dataframe tbody tr th {\n",
       "        vertical-align: top;\n",
       "    }\n",
       "\n",
       "    .dataframe thead th {\n",
       "        text-align: right;\n",
       "    }\n",
       "</style>\n",
       "<table border=\"1\" class=\"dataframe\">\n",
       "  <thead>\n",
       "    <tr style=\"text-align: right;\">\n",
       "      <th></th>\n",
       "      <th>test_r2</th>\n",
       "      <th>test_neg_root_mean_squared_error</th>\n",
       "    </tr>\n",
       "  </thead>\n",
       "  <tbody>\n",
       "    <tr>\n",
       "      <th>0</th>\n",
       "      <td>0.973124</td>\n",
       "      <td>-10.544390</td>\n",
       "    </tr>\n",
       "    <tr>\n",
       "      <th>1</th>\n",
       "      <td>0.990869</td>\n",
       "      <td>-5.586545</td>\n",
       "    </tr>\n",
       "    <tr>\n",
       "      <th>2</th>\n",
       "      <td>0.989212</td>\n",
       "      <td>-6.193191</td>\n",
       "    </tr>\n",
       "    <tr>\n",
       "      <th>3</th>\n",
       "      <td>0.983798</td>\n",
       "      <td>-6.923893</td>\n",
       "    </tr>\n",
       "    <tr>\n",
       "      <th>4</th>\n",
       "      <td>0.992035</td>\n",
       "      <td>-5.045252</td>\n",
       "    </tr>\n",
       "    <tr>\n",
       "      <th>5</th>\n",
       "      <td>0.994995</td>\n",
       "      <td>-4.151354</td>\n",
       "    </tr>\n",
       "    <tr>\n",
       "      <th>6</th>\n",
       "      <td>0.995039</td>\n",
       "      <td>-4.048226</td>\n",
       "    </tr>\n",
       "    <tr>\n",
       "      <th>7</th>\n",
       "      <td>0.995407</td>\n",
       "      <td>-3.660370</td>\n",
       "    </tr>\n",
       "    <tr>\n",
       "      <th>8</th>\n",
       "      <td>0.997634</td>\n",
       "      <td>-2.817278</td>\n",
       "    </tr>\n",
       "    <tr>\n",
       "      <th>9</th>\n",
       "      <td>0.996462</td>\n",
       "      <td>-3.609493</td>\n",
       "    </tr>\n",
       "  </tbody>\n",
       "</table>\n",
       "</div>"
      ],
      "text/plain": [
       "    test_r2  test_neg_root_mean_squared_error\n",
       "0  0.973124                        -10.544390\n",
       "1  0.990869                         -5.586545\n",
       "2  0.989212                         -6.193191\n",
       "3  0.983798                         -6.923893\n",
       "4  0.992035                         -5.045252\n",
       "5  0.994995                         -4.151354\n",
       "6  0.995039                         -4.048226\n",
       "7  0.995407                         -3.660370\n",
       "8  0.997634                         -2.817278\n",
       "9  0.996462                         -3.609493"
      ]
     },
     "execution_count": 37,
     "metadata": {},
     "output_type": "execute_result"
    }
   ],
   "source": [
    "cv_metrics = ('r2', 'neg_root_mean_squared_error')\n",
    "slm_scores_cv = pd.DataFrame(cross_validate(mlinear_model, X_encoded, y, cv=10, scoring= cv_metrics)).iloc[:, 2:]\n",
    "print(f\"Average R2 Score: {slm_scores_cv['test_r2'].mean()}\")\n",
    "print(f\"Average -RMSE   : {slm_scores_cv['test_neg_root_mean_squared_error'].mean()}\\n\")\n",
    "slm_scores_cv"
   ]
  },
  {
   "cell_type": "markdown",
   "id": "404dd579-7ee5-439b-bd1c-56b3e7902214",
   "metadata": {},
   "source": [
    "__It's obvious that linear model is too weak for explaining this huge dataset__"
   ]
  },
  {
   "cell_type": "markdown",
   "id": "f3ddf817-7601-426a-b429-a033dda49816",
   "metadata": {},
   "source": [
    "# Ridge Regression - L2 Regularization"
   ]
  },
  {
   "cell_type": "markdown",
   "id": "54e2498a-6c91-4af1-a7ea-84847173a821",
   "metadata": {},
   "source": [
    "## Ridge Model"
   ]
  },
  {
   "cell_type": "code",
   "execution_count": 38,
   "id": "1d9bafa9-0e60-4061-afe4-843eaf692c0a",
   "metadata": {},
   "outputs": [],
   "source": [
    "from sklearn.linear_model import Ridge, RidgeCV"
   ]
  },
  {
   "cell_type": "code",
   "execution_count": 39,
   "id": "53dacfdb-7920-47be-b286-85ae3b7b6cb6",
   "metadata": {
    "tags": []
   },
   "outputs": [],
   "source": [
    "ridge_model = Ridge(random_state=42)"
   ]
  },
  {
   "cell_type": "code",
   "execution_count": 40,
   "id": "874a8c31-755d-44cb-aca8-1edf42f45074",
   "metadata": {
    "tags": []
   },
   "outputs": [
    {
     "data": {
      "text/html": [
       "<style>#sk-container-id-3 {color: black;background-color: white;}#sk-container-id-3 pre{padding: 0;}#sk-container-id-3 div.sk-toggleable {background-color: white;}#sk-container-id-3 label.sk-toggleable__label {cursor: pointer;display: block;width: 100%;margin-bottom: 0;padding: 0.3em;box-sizing: border-box;text-align: center;}#sk-container-id-3 label.sk-toggleable__label-arrow:before {content: \"▸\";float: left;margin-right: 0.25em;color: #696969;}#sk-container-id-3 label.sk-toggleable__label-arrow:hover:before {color: black;}#sk-container-id-3 div.sk-estimator:hover label.sk-toggleable__label-arrow:before {color: black;}#sk-container-id-3 div.sk-toggleable__content {max-height: 0;max-width: 0;overflow: hidden;text-align: left;background-color: #f0f8ff;}#sk-container-id-3 div.sk-toggleable__content pre {margin: 0.2em;color: black;border-radius: 0.25em;background-color: #f0f8ff;}#sk-container-id-3 input.sk-toggleable__control:checked~div.sk-toggleable__content {max-height: 200px;max-width: 100%;overflow: auto;}#sk-container-id-3 input.sk-toggleable__control:checked~label.sk-toggleable__label-arrow:before {content: \"▾\";}#sk-container-id-3 div.sk-estimator input.sk-toggleable__control:checked~label.sk-toggleable__label {background-color: #d4ebff;}#sk-container-id-3 div.sk-label input.sk-toggleable__control:checked~label.sk-toggleable__label {background-color: #d4ebff;}#sk-container-id-3 input.sk-hidden--visually {border: 0;clip: rect(1px 1px 1px 1px);clip: rect(1px, 1px, 1px, 1px);height: 1px;margin: -1px;overflow: hidden;padding: 0;position: absolute;width: 1px;}#sk-container-id-3 div.sk-estimator {font-family: monospace;background-color: #f0f8ff;border: 1px dotted black;border-radius: 0.25em;box-sizing: border-box;margin-bottom: 0.5em;}#sk-container-id-3 div.sk-estimator:hover {background-color: #d4ebff;}#sk-container-id-3 div.sk-parallel-item::after {content: \"\";width: 100%;border-bottom: 1px solid gray;flex-grow: 1;}#sk-container-id-3 div.sk-label:hover label.sk-toggleable__label {background-color: #d4ebff;}#sk-container-id-3 div.sk-serial::before {content: \"\";position: absolute;border-left: 1px solid gray;box-sizing: border-box;top: 0;bottom: 0;left: 50%;z-index: 0;}#sk-container-id-3 div.sk-serial {display: flex;flex-direction: column;align-items: center;background-color: white;padding-right: 0.2em;padding-left: 0.2em;position: relative;}#sk-container-id-3 div.sk-item {position: relative;z-index: 1;}#sk-container-id-3 div.sk-parallel {display: flex;align-items: stretch;justify-content: center;background-color: white;position: relative;}#sk-container-id-3 div.sk-item::before, #sk-container-id-3 div.sk-parallel-item::before {content: \"\";position: absolute;border-left: 1px solid gray;box-sizing: border-box;top: 0;bottom: 0;left: 50%;z-index: -1;}#sk-container-id-3 div.sk-parallel-item {display: flex;flex-direction: column;z-index: 1;position: relative;background-color: white;}#sk-container-id-3 div.sk-parallel-item:first-child::after {align-self: flex-end;width: 50%;}#sk-container-id-3 div.sk-parallel-item:last-child::after {align-self: flex-start;width: 50%;}#sk-container-id-3 div.sk-parallel-item:only-child::after {width: 0;}#sk-container-id-3 div.sk-dashed-wrapped {border: 1px dashed gray;margin: 0 0.4em 0.5em 0.4em;box-sizing: border-box;padding-bottom: 0.4em;background-color: white;}#sk-container-id-3 div.sk-label label {font-family: monospace;font-weight: bold;display: inline-block;line-height: 1.2em;}#sk-container-id-3 div.sk-label-container {text-align: center;}#sk-container-id-3 div.sk-container {/* jupyter's `normalize.less` sets `[hidden] { display: none; }` but bootstrap.min.css set `[hidden] { display: none !important; }` so we also need the `!important` here to be able to override the default hidden behavior on the sphinx rendered scikit-learn.org. See: https://github.com/scikit-learn/scikit-learn/issues/21755 */display: inline-block !important;position: relative;}#sk-container-id-3 div.sk-text-repr-fallback {display: none;}</style><div id=\"sk-container-id-3\" class=\"sk-top-container\"><div class=\"sk-text-repr-fallback\"><pre>Ridge(random_state=42)</pre><b>In a Jupyter environment, please rerun this cell to show the HTML representation or trust the notebook. <br />On GitHub, the HTML representation is unable to render, please try loading this page with nbviewer.org.</b></div><div class=\"sk-container\" hidden><div class=\"sk-item\"><div class=\"sk-estimator sk-toggleable\"><input class=\"sk-toggleable__control sk-hidden--visually\" id=\"sk-estimator-id-3\" type=\"checkbox\" checked><label for=\"sk-estimator-id-3\" class=\"sk-toggleable__label sk-toggleable__label-arrow\">Ridge</label><div class=\"sk-toggleable__content\"><pre>Ridge(random_state=42)</pre></div></div></div></div></div>"
      ],
      "text/plain": [
       "Ridge(random_state=42)"
      ]
     },
     "execution_count": 40,
     "metadata": {},
     "output_type": "execute_result"
    }
   ],
   "source": [
    "ridge_model.fit(X_train_scaled, y_train)"
   ]
  },
  {
   "cell_type": "code",
   "execution_count": 41,
   "id": "b91e3410-90dd-442f-9798-c8183188d0db",
   "metadata": {
    "tags": []
   },
   "outputs": [
    {
     "data": {
      "text/html": [
       "<div>\n",
       "<style scoped>\n",
       "    .dataframe tbody tr th:only-of-type {\n",
       "        vertical-align: middle;\n",
       "    }\n",
       "\n",
       "    .dataframe tbody tr th {\n",
       "        vertical-align: top;\n",
       "    }\n",
       "\n",
       "    .dataframe thead th {\n",
       "        text-align: right;\n",
       "    }\n",
       "</style>\n",
       "<table border=\"1\" class=\"dataframe\">\n",
       "  <thead>\n",
       "    <tr style=\"text-align: right;\">\n",
       "      <th></th>\n",
       "      <th>ridge_model_train</th>\n",
       "      <th>ridge_model_test</th>\n",
       "    </tr>\n",
       "  </thead>\n",
       "  <tbody>\n",
       "    <tr>\n",
       "      <th>R2</th>\n",
       "      <td>0.992745</td>\n",
       "      <td>0.991410</td>\n",
       "    </tr>\n",
       "    <tr>\n",
       "      <th>mae</th>\n",
       "      <td>2.938944</td>\n",
       "      <td>3.053246</td>\n",
       "    </tr>\n",
       "    <tr>\n",
       "      <th>mse</th>\n",
       "      <td>24.841430</td>\n",
       "      <td>29.262197</td>\n",
       "    </tr>\n",
       "    <tr>\n",
       "      <th>rmse</th>\n",
       "      <td>4.984118</td>\n",
       "      <td>5.409454</td>\n",
       "    </tr>\n",
       "  </tbody>\n",
       "</table>\n",
       "</div>"
      ],
      "text/plain": [
       "      ridge_model_train  ridge_model_test\n",
       "R2             0.992745          0.991410\n",
       "mae            2.938944          3.053246\n",
       "mse           24.841430         29.262197\n",
       "rmse           4.984118          5.409454"
      ]
     },
     "execution_count": 41,
     "metadata": {},
     "output_type": "execute_result"
    }
   ],
   "source": [
    "y_pred = ridge_model.predict(X_test_scaled)\n",
    "y_train_pred = ridge_model.predict(X_train_scaled)\n",
    "\n",
    "ridge_scores = train_val(y_train, y_train_pred, y_test, y_pred, 'ridge_model')\n",
    "ridge_scores"
   ]
  },
  {
   "cell_type": "markdown",
   "id": "f6359cb9-f089-47ae-a7db-7d230d4fa3ad",
   "metadata": {},
   "source": [
    "## Ridge - Cross Validation"
   ]
  },
  {
   "cell_type": "code",
   "execution_count": 42,
   "id": "6d2d96df-6ac9-4b42-a97f-b92837e8ed56",
   "metadata": {
    "tags": []
   },
   "outputs": [
    {
     "name": "stdout",
     "output_type": "stream",
     "text": [
      "Average R2 Score: 0.9908598164162516\n",
      "Average -RMSE   : -5.269012937447441\n",
      "\n"
     ]
    },
    {
     "data": {
      "text/html": [
       "<div>\n",
       "<style scoped>\n",
       "    .dataframe tbody tr th:only-of-type {\n",
       "        vertical-align: middle;\n",
       "    }\n",
       "\n",
       "    .dataframe tbody tr th {\n",
       "        vertical-align: top;\n",
       "    }\n",
       "\n",
       "    .dataframe thead th {\n",
       "        text-align: right;\n",
       "    }\n",
       "</style>\n",
       "<table border=\"1\" class=\"dataframe\">\n",
       "  <thead>\n",
       "    <tr style=\"text-align: right;\">\n",
       "      <th></th>\n",
       "      <th>test_r2</th>\n",
       "      <th>test_neg_root_mean_squared_error</th>\n",
       "    </tr>\n",
       "  </thead>\n",
       "  <tbody>\n",
       "    <tr>\n",
       "      <th>0</th>\n",
       "      <td>0.973147</td>\n",
       "      <td>-10.539945</td>\n",
       "    </tr>\n",
       "    <tr>\n",
       "      <th>1</th>\n",
       "      <td>0.990773</td>\n",
       "      <td>-5.615847</td>\n",
       "    </tr>\n",
       "    <tr>\n",
       "      <th>2</th>\n",
       "      <td>0.989169</td>\n",
       "      <td>-6.205551</td>\n",
       "    </tr>\n",
       "    <tr>\n",
       "      <th>3</th>\n",
       "      <td>0.984197</td>\n",
       "      <td>-6.837962</td>\n",
       "    </tr>\n",
       "    <tr>\n",
       "      <th>4</th>\n",
       "      <td>0.992142</td>\n",
       "      <td>-5.011433</td>\n",
       "    </tr>\n",
       "    <tr>\n",
       "      <th>5</th>\n",
       "      <td>0.994928</td>\n",
       "      <td>-4.178887</td>\n",
       "    </tr>\n",
       "    <tr>\n",
       "      <th>6</th>\n",
       "      <td>0.995117</td>\n",
       "      <td>-4.016277</td>\n",
       "    </tr>\n",
       "    <tr>\n",
       "      <th>7</th>\n",
       "      <td>0.995359</td>\n",
       "      <td>-3.679251</td>\n",
       "    </tr>\n",
       "    <tr>\n",
       "      <th>8</th>\n",
       "      <td>0.997488</td>\n",
       "      <td>-2.902997</td>\n",
       "    </tr>\n",
       "    <tr>\n",
       "      <th>9</th>\n",
       "      <td>0.996278</td>\n",
       "      <td>-3.701980</td>\n",
       "    </tr>\n",
       "  </tbody>\n",
       "</table>\n",
       "</div>"
      ],
      "text/plain": [
       "    test_r2  test_neg_root_mean_squared_error\n",
       "0  0.973147                        -10.539945\n",
       "1  0.990773                         -5.615847\n",
       "2  0.989169                         -6.205551\n",
       "3  0.984197                         -6.837962\n",
       "4  0.992142                         -5.011433\n",
       "5  0.994928                         -4.178887\n",
       "6  0.995117                         -4.016277\n",
       "7  0.995359                         -3.679251\n",
       "8  0.997488                         -2.902997\n",
       "9  0.996278                         -3.701980"
      ]
     },
     "execution_count": 42,
     "metadata": {},
     "output_type": "execute_result"
    }
   ],
   "source": [
    "cv_metrics = ('r2', 'neg_root_mean_squared_error')\n",
    "rm_scores_cv = pd.DataFrame(cross_validate(ridge_model, X_encoded, y, cv=10, scoring= cv_metrics)).iloc[:, 2:]\n",
    "print(f\"Average R2 Score: {rm_scores_cv['test_r2'].mean()}\")\n",
    "print(f\"Average -RMSE   : {rm_scores_cv['test_neg_root_mean_squared_error'].mean()}\\n\")\n",
    "rm_scores_cv"
   ]
  },
  {
   "cell_type": "markdown",
   "id": "e05fd7ba-9c95-4816-83d6-ebc2413fe47f",
   "metadata": {
    "tags": []
   },
   "source": [
    "## Hyperparametre Tuning for Ridge Regression"
   ]
  },
  {
   "cell_type": "code",
   "execution_count": 43,
   "id": "da4191f6-494c-404e-ae9d-c3a863ca500d",
   "metadata": {
    "tags": []
   },
   "outputs": [],
   "source": [
    "alpha_space = np.logspace(-3, 2, 100)"
   ]
  },
  {
   "cell_type": "code",
   "execution_count": 44,
   "id": "89d19942-c692-42b2-9b19-860f2233a32d",
   "metadata": {
    "tags": []
   },
   "outputs": [
    {
     "data": {
      "text/html": [
       "<style>#sk-container-id-4 {color: black;background-color: white;}#sk-container-id-4 pre{padding: 0;}#sk-container-id-4 div.sk-toggleable {background-color: white;}#sk-container-id-4 label.sk-toggleable__label {cursor: pointer;display: block;width: 100%;margin-bottom: 0;padding: 0.3em;box-sizing: border-box;text-align: center;}#sk-container-id-4 label.sk-toggleable__label-arrow:before {content: \"▸\";float: left;margin-right: 0.25em;color: #696969;}#sk-container-id-4 label.sk-toggleable__label-arrow:hover:before {color: black;}#sk-container-id-4 div.sk-estimator:hover label.sk-toggleable__label-arrow:before {color: black;}#sk-container-id-4 div.sk-toggleable__content {max-height: 0;max-width: 0;overflow: hidden;text-align: left;background-color: #f0f8ff;}#sk-container-id-4 div.sk-toggleable__content pre {margin: 0.2em;color: black;border-radius: 0.25em;background-color: #f0f8ff;}#sk-container-id-4 input.sk-toggleable__control:checked~div.sk-toggleable__content {max-height: 200px;max-width: 100%;overflow: auto;}#sk-container-id-4 input.sk-toggleable__control:checked~label.sk-toggleable__label-arrow:before {content: \"▾\";}#sk-container-id-4 div.sk-estimator input.sk-toggleable__control:checked~label.sk-toggleable__label {background-color: #d4ebff;}#sk-container-id-4 div.sk-label input.sk-toggleable__control:checked~label.sk-toggleable__label {background-color: #d4ebff;}#sk-container-id-4 input.sk-hidden--visually {border: 0;clip: rect(1px 1px 1px 1px);clip: rect(1px, 1px, 1px, 1px);height: 1px;margin: -1px;overflow: hidden;padding: 0;position: absolute;width: 1px;}#sk-container-id-4 div.sk-estimator {font-family: monospace;background-color: #f0f8ff;border: 1px dotted black;border-radius: 0.25em;box-sizing: border-box;margin-bottom: 0.5em;}#sk-container-id-4 div.sk-estimator:hover {background-color: #d4ebff;}#sk-container-id-4 div.sk-parallel-item::after {content: \"\";width: 100%;border-bottom: 1px solid gray;flex-grow: 1;}#sk-container-id-4 div.sk-label:hover label.sk-toggleable__label {background-color: #d4ebff;}#sk-container-id-4 div.sk-serial::before {content: \"\";position: absolute;border-left: 1px solid gray;box-sizing: border-box;top: 0;bottom: 0;left: 50%;z-index: 0;}#sk-container-id-4 div.sk-serial {display: flex;flex-direction: column;align-items: center;background-color: white;padding-right: 0.2em;padding-left: 0.2em;position: relative;}#sk-container-id-4 div.sk-item {position: relative;z-index: 1;}#sk-container-id-4 div.sk-parallel {display: flex;align-items: stretch;justify-content: center;background-color: white;position: relative;}#sk-container-id-4 div.sk-item::before, #sk-container-id-4 div.sk-parallel-item::before {content: \"\";position: absolute;border-left: 1px solid gray;box-sizing: border-box;top: 0;bottom: 0;left: 50%;z-index: -1;}#sk-container-id-4 div.sk-parallel-item {display: flex;flex-direction: column;z-index: 1;position: relative;background-color: white;}#sk-container-id-4 div.sk-parallel-item:first-child::after {align-self: flex-end;width: 50%;}#sk-container-id-4 div.sk-parallel-item:last-child::after {align-self: flex-start;width: 50%;}#sk-container-id-4 div.sk-parallel-item:only-child::after {width: 0;}#sk-container-id-4 div.sk-dashed-wrapped {border: 1px dashed gray;margin: 0 0.4em 0.5em 0.4em;box-sizing: border-box;padding-bottom: 0.4em;background-color: white;}#sk-container-id-4 div.sk-label label {font-family: monospace;font-weight: bold;display: inline-block;line-height: 1.2em;}#sk-container-id-4 div.sk-label-container {text-align: center;}#sk-container-id-4 div.sk-container {/* jupyter's `normalize.less` sets `[hidden] { display: none; }` but bootstrap.min.css set `[hidden] { display: none !important; }` so we also need the `!important` here to be able to override the default hidden behavior on the sphinx rendered scikit-learn.org. See: https://github.com/scikit-learn/scikit-learn/issues/21755 */display: inline-block !important;position: relative;}#sk-container-id-4 div.sk-text-repr-fallback {display: none;}</style><div id=\"sk-container-id-4\" class=\"sk-top-container\"><div class=\"sk-text-repr-fallback\"><pre>RidgeCV(alphas=array([1.00000000e-03, 1.12332403e-03, 1.26185688e-03, 1.41747416e-03,\n",
       "       1.59228279e-03, 1.78864953e-03, 2.00923300e-03, 2.25701972e-03,\n",
       "       2.53536449e-03, 2.84803587e-03, 3.19926714e-03, 3.59381366e-03,\n",
       "       4.03701726e-03, 4.53487851e-03, 5.09413801e-03, 5.72236766e-03,\n",
       "       6.42807312e-03, 7.22080902e-03, 8.11130831e-03, 9.11162756e-03,\n",
       "       1.02353102e-02, 1.14975700e-0...\n",
       "       6.89261210e+00, 7.74263683e+00, 8.69749003e+00, 9.77009957e+00,\n",
       "       1.09749877e+01, 1.23284674e+01, 1.38488637e+01, 1.55567614e+01,\n",
       "       1.74752840e+01, 1.96304065e+01, 2.20513074e+01, 2.47707636e+01,\n",
       "       2.78255940e+01, 3.12571585e+01, 3.51119173e+01, 3.94420606e+01,\n",
       "       4.43062146e+01, 4.97702356e+01, 5.59081018e+01, 6.28029144e+01,\n",
       "       7.05480231e+01, 7.92482898e+01, 8.90215085e+01, 1.00000000e+02]),\n",
       "        cv=10, scoring=&#x27;neg_root_mean_squared_error&#x27;)</pre><b>In a Jupyter environment, please rerun this cell to show the HTML representation or trust the notebook. <br />On GitHub, the HTML representation is unable to render, please try loading this page with nbviewer.org.</b></div><div class=\"sk-container\" hidden><div class=\"sk-item\"><div class=\"sk-estimator sk-toggleable\"><input class=\"sk-toggleable__control sk-hidden--visually\" id=\"sk-estimator-id-4\" type=\"checkbox\" checked><label for=\"sk-estimator-id-4\" class=\"sk-toggleable__label sk-toggleable__label-arrow\">RidgeCV</label><div class=\"sk-toggleable__content\"><pre>RidgeCV(alphas=array([1.00000000e-03, 1.12332403e-03, 1.26185688e-03, 1.41747416e-03,\n",
       "       1.59228279e-03, 1.78864953e-03, 2.00923300e-03, 2.25701972e-03,\n",
       "       2.53536449e-03, 2.84803587e-03, 3.19926714e-03, 3.59381366e-03,\n",
       "       4.03701726e-03, 4.53487851e-03, 5.09413801e-03, 5.72236766e-03,\n",
       "       6.42807312e-03, 7.22080902e-03, 8.11130831e-03, 9.11162756e-03,\n",
       "       1.02353102e-02, 1.14975700e-0...\n",
       "       6.89261210e+00, 7.74263683e+00, 8.69749003e+00, 9.77009957e+00,\n",
       "       1.09749877e+01, 1.23284674e+01, 1.38488637e+01, 1.55567614e+01,\n",
       "       1.74752840e+01, 1.96304065e+01, 2.20513074e+01, 2.47707636e+01,\n",
       "       2.78255940e+01, 3.12571585e+01, 3.51119173e+01, 3.94420606e+01,\n",
       "       4.43062146e+01, 4.97702356e+01, 5.59081018e+01, 6.28029144e+01,\n",
       "       7.05480231e+01, 7.92482898e+01, 8.90215085e+01, 1.00000000e+02]),\n",
       "        cv=10, scoring=&#x27;neg_root_mean_squared_error&#x27;)</pre></div></div></div></div></div>"
      ],
      "text/plain": [
       "RidgeCV(alphas=array([1.00000000e-03, 1.12332403e-03, 1.26185688e-03, 1.41747416e-03,\n",
       "       1.59228279e-03, 1.78864953e-03, 2.00923300e-03, 2.25701972e-03,\n",
       "       2.53536449e-03, 2.84803587e-03, 3.19926714e-03, 3.59381366e-03,\n",
       "       4.03701726e-03, 4.53487851e-03, 5.09413801e-03, 5.72236766e-03,\n",
       "       6.42807312e-03, 7.22080902e-03, 8.11130831e-03, 9.11162756e-03,\n",
       "       1.02353102e-02, 1.14975700e-0...\n",
       "       6.89261210e+00, 7.74263683e+00, 8.69749003e+00, 9.77009957e+00,\n",
       "       1.09749877e+01, 1.23284674e+01, 1.38488637e+01, 1.55567614e+01,\n",
       "       1.74752840e+01, 1.96304065e+01, 2.20513074e+01, 2.47707636e+01,\n",
       "       2.78255940e+01, 3.12571585e+01, 3.51119173e+01, 3.94420606e+01,\n",
       "       4.43062146e+01, 4.97702356e+01, 5.59081018e+01, 6.28029144e+01,\n",
       "       7.05480231e+01, 7.92482898e+01, 8.90215085e+01, 1.00000000e+02]),\n",
       "        cv=10, scoring='neg_root_mean_squared_error')"
      ]
     },
     "execution_count": 44,
     "metadata": {},
     "output_type": "execute_result"
    }
   ],
   "source": [
    "ridge_model_hyp = RidgeCV(alphas=alpha_space, cv=10, scoring='neg_root_mean_squared_error')\n",
    "ridge_model_hyp"
   ]
  },
  {
   "cell_type": "code",
   "execution_count": 45,
   "id": "934796a8-dec0-4d9e-a1df-e288c1bec3ee",
   "metadata": {
    "tags": []
   },
   "outputs": [
    {
     "data": {
      "text/html": [
       "<style>#sk-container-id-5 {color: black;background-color: white;}#sk-container-id-5 pre{padding: 0;}#sk-container-id-5 div.sk-toggleable {background-color: white;}#sk-container-id-5 label.sk-toggleable__label {cursor: pointer;display: block;width: 100%;margin-bottom: 0;padding: 0.3em;box-sizing: border-box;text-align: center;}#sk-container-id-5 label.sk-toggleable__label-arrow:before {content: \"▸\";float: left;margin-right: 0.25em;color: #696969;}#sk-container-id-5 label.sk-toggleable__label-arrow:hover:before {color: black;}#sk-container-id-5 div.sk-estimator:hover label.sk-toggleable__label-arrow:before {color: black;}#sk-container-id-5 div.sk-toggleable__content {max-height: 0;max-width: 0;overflow: hidden;text-align: left;background-color: #f0f8ff;}#sk-container-id-5 div.sk-toggleable__content pre {margin: 0.2em;color: black;border-radius: 0.25em;background-color: #f0f8ff;}#sk-container-id-5 input.sk-toggleable__control:checked~div.sk-toggleable__content {max-height: 200px;max-width: 100%;overflow: auto;}#sk-container-id-5 input.sk-toggleable__control:checked~label.sk-toggleable__label-arrow:before {content: \"▾\";}#sk-container-id-5 div.sk-estimator input.sk-toggleable__control:checked~label.sk-toggleable__label {background-color: #d4ebff;}#sk-container-id-5 div.sk-label input.sk-toggleable__control:checked~label.sk-toggleable__label {background-color: #d4ebff;}#sk-container-id-5 input.sk-hidden--visually {border: 0;clip: rect(1px 1px 1px 1px);clip: rect(1px, 1px, 1px, 1px);height: 1px;margin: -1px;overflow: hidden;padding: 0;position: absolute;width: 1px;}#sk-container-id-5 div.sk-estimator {font-family: monospace;background-color: #f0f8ff;border: 1px dotted black;border-radius: 0.25em;box-sizing: border-box;margin-bottom: 0.5em;}#sk-container-id-5 div.sk-estimator:hover {background-color: #d4ebff;}#sk-container-id-5 div.sk-parallel-item::after {content: \"\";width: 100%;border-bottom: 1px solid gray;flex-grow: 1;}#sk-container-id-5 div.sk-label:hover label.sk-toggleable__label {background-color: #d4ebff;}#sk-container-id-5 div.sk-serial::before {content: \"\";position: absolute;border-left: 1px solid gray;box-sizing: border-box;top: 0;bottom: 0;left: 50%;z-index: 0;}#sk-container-id-5 div.sk-serial {display: flex;flex-direction: column;align-items: center;background-color: white;padding-right: 0.2em;padding-left: 0.2em;position: relative;}#sk-container-id-5 div.sk-item {position: relative;z-index: 1;}#sk-container-id-5 div.sk-parallel {display: flex;align-items: stretch;justify-content: center;background-color: white;position: relative;}#sk-container-id-5 div.sk-item::before, #sk-container-id-5 div.sk-parallel-item::before {content: \"\";position: absolute;border-left: 1px solid gray;box-sizing: border-box;top: 0;bottom: 0;left: 50%;z-index: -1;}#sk-container-id-5 div.sk-parallel-item {display: flex;flex-direction: column;z-index: 1;position: relative;background-color: white;}#sk-container-id-5 div.sk-parallel-item:first-child::after {align-self: flex-end;width: 50%;}#sk-container-id-5 div.sk-parallel-item:last-child::after {align-self: flex-start;width: 50%;}#sk-container-id-5 div.sk-parallel-item:only-child::after {width: 0;}#sk-container-id-5 div.sk-dashed-wrapped {border: 1px dashed gray;margin: 0 0.4em 0.5em 0.4em;box-sizing: border-box;padding-bottom: 0.4em;background-color: white;}#sk-container-id-5 div.sk-label label {font-family: monospace;font-weight: bold;display: inline-block;line-height: 1.2em;}#sk-container-id-5 div.sk-label-container {text-align: center;}#sk-container-id-5 div.sk-container {/* jupyter's `normalize.less` sets `[hidden] { display: none; }` but bootstrap.min.css set `[hidden] { display: none !important; }` so we also need the `!important` here to be able to override the default hidden behavior on the sphinx rendered scikit-learn.org. See: https://github.com/scikit-learn/scikit-learn/issues/21755 */display: inline-block !important;position: relative;}#sk-container-id-5 div.sk-text-repr-fallback {display: none;}</style><div id=\"sk-container-id-5\" class=\"sk-top-container\"><div class=\"sk-text-repr-fallback\"><pre>RidgeCV(alphas=array([1.00000000e-03, 1.12332403e-03, 1.26185688e-03, 1.41747416e-03,\n",
       "       1.59228279e-03, 1.78864953e-03, 2.00923300e-03, 2.25701972e-03,\n",
       "       2.53536449e-03, 2.84803587e-03, 3.19926714e-03, 3.59381366e-03,\n",
       "       4.03701726e-03, 4.53487851e-03, 5.09413801e-03, 5.72236766e-03,\n",
       "       6.42807312e-03, 7.22080902e-03, 8.11130831e-03, 9.11162756e-03,\n",
       "       1.02353102e-02, 1.14975700e-0...\n",
       "       6.89261210e+00, 7.74263683e+00, 8.69749003e+00, 9.77009957e+00,\n",
       "       1.09749877e+01, 1.23284674e+01, 1.38488637e+01, 1.55567614e+01,\n",
       "       1.74752840e+01, 1.96304065e+01, 2.20513074e+01, 2.47707636e+01,\n",
       "       2.78255940e+01, 3.12571585e+01, 3.51119173e+01, 3.94420606e+01,\n",
       "       4.43062146e+01, 4.97702356e+01, 5.59081018e+01, 6.28029144e+01,\n",
       "       7.05480231e+01, 7.92482898e+01, 8.90215085e+01, 1.00000000e+02]),\n",
       "        cv=10, scoring=&#x27;neg_root_mean_squared_error&#x27;)</pre><b>In a Jupyter environment, please rerun this cell to show the HTML representation or trust the notebook. <br />On GitHub, the HTML representation is unable to render, please try loading this page with nbviewer.org.</b></div><div class=\"sk-container\" hidden><div class=\"sk-item\"><div class=\"sk-estimator sk-toggleable\"><input class=\"sk-toggleable__control sk-hidden--visually\" id=\"sk-estimator-id-5\" type=\"checkbox\" checked><label for=\"sk-estimator-id-5\" class=\"sk-toggleable__label sk-toggleable__label-arrow\">RidgeCV</label><div class=\"sk-toggleable__content\"><pre>RidgeCV(alphas=array([1.00000000e-03, 1.12332403e-03, 1.26185688e-03, 1.41747416e-03,\n",
       "       1.59228279e-03, 1.78864953e-03, 2.00923300e-03, 2.25701972e-03,\n",
       "       2.53536449e-03, 2.84803587e-03, 3.19926714e-03, 3.59381366e-03,\n",
       "       4.03701726e-03, 4.53487851e-03, 5.09413801e-03, 5.72236766e-03,\n",
       "       6.42807312e-03, 7.22080902e-03, 8.11130831e-03, 9.11162756e-03,\n",
       "       1.02353102e-02, 1.14975700e-0...\n",
       "       6.89261210e+00, 7.74263683e+00, 8.69749003e+00, 9.77009957e+00,\n",
       "       1.09749877e+01, 1.23284674e+01, 1.38488637e+01, 1.55567614e+01,\n",
       "       1.74752840e+01, 1.96304065e+01, 2.20513074e+01, 2.47707636e+01,\n",
       "       2.78255940e+01, 3.12571585e+01, 3.51119173e+01, 3.94420606e+01,\n",
       "       4.43062146e+01, 4.97702356e+01, 5.59081018e+01, 6.28029144e+01,\n",
       "       7.05480231e+01, 7.92482898e+01, 8.90215085e+01, 1.00000000e+02]),\n",
       "        cv=10, scoring=&#x27;neg_root_mean_squared_error&#x27;)</pre></div></div></div></div></div>"
      ],
      "text/plain": [
       "RidgeCV(alphas=array([1.00000000e-03, 1.12332403e-03, 1.26185688e-03, 1.41747416e-03,\n",
       "       1.59228279e-03, 1.78864953e-03, 2.00923300e-03, 2.25701972e-03,\n",
       "       2.53536449e-03, 2.84803587e-03, 3.19926714e-03, 3.59381366e-03,\n",
       "       4.03701726e-03, 4.53487851e-03, 5.09413801e-03, 5.72236766e-03,\n",
       "       6.42807312e-03, 7.22080902e-03, 8.11130831e-03, 9.11162756e-03,\n",
       "       1.02353102e-02, 1.14975700e-0...\n",
       "       6.89261210e+00, 7.74263683e+00, 8.69749003e+00, 9.77009957e+00,\n",
       "       1.09749877e+01, 1.23284674e+01, 1.38488637e+01, 1.55567614e+01,\n",
       "       1.74752840e+01, 1.96304065e+01, 2.20513074e+01, 2.47707636e+01,\n",
       "       2.78255940e+01, 3.12571585e+01, 3.51119173e+01, 3.94420606e+01,\n",
       "       4.43062146e+01, 4.97702356e+01, 5.59081018e+01, 6.28029144e+01,\n",
       "       7.05480231e+01, 7.92482898e+01, 8.90215085e+01, 1.00000000e+02]),\n",
       "        cv=10, scoring='neg_root_mean_squared_error')"
      ]
     },
     "execution_count": 45,
     "metadata": {},
     "output_type": "execute_result"
    }
   ],
   "source": [
    "ridge_model_hyp.fit(X_train_scaled, y_train)"
   ]
  },
  {
   "cell_type": "code",
   "execution_count": 46,
   "id": "e821082f-8e2f-4468-aa29-3c3e03eb731b",
   "metadata": {
    "tags": []
   },
   "outputs": [
    {
     "data": {
      "text/plain": [
       "1.7073526474706904"
      ]
     },
     "execution_count": 46,
     "metadata": {},
     "output_type": "execute_result"
    }
   ],
   "source": [
    "ridge_model_hyp.alpha_"
   ]
  },
  {
   "cell_type": "code",
   "execution_count": 47,
   "id": "105d55b0-5143-4c23-adf6-7d904a652a28",
   "metadata": {
    "tags": []
   },
   "outputs": [
    {
     "data": {
      "text/plain": [
       "-5.1849285820686895"
      ]
     },
     "execution_count": 47,
     "metadata": {},
     "output_type": "execute_result"
    }
   ],
   "source": [
    "ridge_model_hyp.best_score_"
   ]
  },
  {
   "cell_type": "code",
   "execution_count": 48,
   "id": "4928a7a9-a612-4ad5-b293-cffacff8587e",
   "metadata": {
    "tags": []
   },
   "outputs": [
    {
     "data": {
      "text/html": [
       "<div>\n",
       "<style scoped>\n",
       "    .dataframe tbody tr th:only-of-type {\n",
       "        vertical-align: middle;\n",
       "    }\n",
       "\n",
       "    .dataframe tbody tr th {\n",
       "        vertical-align: top;\n",
       "    }\n",
       "\n",
       "    .dataframe thead th {\n",
       "        text-align: right;\n",
       "    }\n",
       "</style>\n",
       "<table border=\"1\" class=\"dataframe\">\n",
       "  <thead>\n",
       "    <tr style=\"text-align: right;\">\n",
       "      <th></th>\n",
       "      <th>ridge_hyp_model_train</th>\n",
       "      <th>ridge_hyp_model_test</th>\n",
       "    </tr>\n",
       "  </thead>\n",
       "  <tbody>\n",
       "    <tr>\n",
       "      <th>R2</th>\n",
       "      <td>0.992744</td>\n",
       "      <td>0.991412</td>\n",
       "    </tr>\n",
       "    <tr>\n",
       "      <th>mae</th>\n",
       "      <td>2.943719</td>\n",
       "      <td>3.059228</td>\n",
       "    </tr>\n",
       "    <tr>\n",
       "      <th>mse</th>\n",
       "      <td>24.845513</td>\n",
       "      <td>29.257679</td>\n",
       "    </tr>\n",
       "    <tr>\n",
       "      <th>rmse</th>\n",
       "      <td>4.984527</td>\n",
       "      <td>5.409037</td>\n",
       "    </tr>\n",
       "  </tbody>\n",
       "</table>\n",
       "</div>"
      ],
      "text/plain": [
       "      ridge_hyp_model_train  ridge_hyp_model_test\n",
       "R2                 0.992744              0.991412\n",
       "mae                2.943719              3.059228\n",
       "mse               24.845513             29.257679\n",
       "rmse               4.984527              5.409037"
      ]
     },
     "execution_count": 48,
     "metadata": {},
     "output_type": "execute_result"
    }
   ],
   "source": [
    "y_pred = ridge_model_hyp.predict(X_test_scaled)\n",
    "y_train_pred = ridge_model_hyp.predict(X_train_scaled)\n",
    "\n",
    "ridge_scores_hyp = train_val(y_train, y_train_pred, y_test, y_pred, 'ridge_hyp_model')\n",
    "ridge_scores_hyp"
   ]
  },
  {
   "cell_type": "markdown",
   "id": "d3e1ceb6-1492-403e-9bef-5db76d885010",
   "metadata": {},
   "source": [
    "# Lasso Regression - L1 Regularization"
   ]
  },
  {
   "cell_type": "markdown",
   "id": "531daa59-8b90-4d10-aafd-ccb10610d861",
   "metadata": {
    "tags": []
   },
   "source": [
    "## Lasso Model"
   ]
  },
  {
   "cell_type": "code",
   "execution_count": 49,
   "id": "f5ecb1b0-0a44-46c3-be4a-0e8e5185e673",
   "metadata": {
    "tags": []
   },
   "outputs": [],
   "source": [
    "from sklearn.linear_model import Lasso, LassoCV"
   ]
  },
  {
   "cell_type": "code",
   "execution_count": 50,
   "id": "6d06ba01-8106-4310-a3e0-4094c8b483b5",
   "metadata": {
    "tags": []
   },
   "outputs": [],
   "source": [
    "lasso_model = Lasso(random_state=42)"
   ]
  },
  {
   "cell_type": "code",
   "execution_count": 51,
   "id": "395018f9-ddd2-40c3-89c6-308c3e788953",
   "metadata": {
    "tags": []
   },
   "outputs": [
    {
     "data": {
      "text/html": [
       "<style>#sk-container-id-6 {color: black;background-color: white;}#sk-container-id-6 pre{padding: 0;}#sk-container-id-6 div.sk-toggleable {background-color: white;}#sk-container-id-6 label.sk-toggleable__label {cursor: pointer;display: block;width: 100%;margin-bottom: 0;padding: 0.3em;box-sizing: border-box;text-align: center;}#sk-container-id-6 label.sk-toggleable__label-arrow:before {content: \"▸\";float: left;margin-right: 0.25em;color: #696969;}#sk-container-id-6 label.sk-toggleable__label-arrow:hover:before {color: black;}#sk-container-id-6 div.sk-estimator:hover label.sk-toggleable__label-arrow:before {color: black;}#sk-container-id-6 div.sk-toggleable__content {max-height: 0;max-width: 0;overflow: hidden;text-align: left;background-color: #f0f8ff;}#sk-container-id-6 div.sk-toggleable__content pre {margin: 0.2em;color: black;border-radius: 0.25em;background-color: #f0f8ff;}#sk-container-id-6 input.sk-toggleable__control:checked~div.sk-toggleable__content {max-height: 200px;max-width: 100%;overflow: auto;}#sk-container-id-6 input.sk-toggleable__control:checked~label.sk-toggleable__label-arrow:before {content: \"▾\";}#sk-container-id-6 div.sk-estimator input.sk-toggleable__control:checked~label.sk-toggleable__label {background-color: #d4ebff;}#sk-container-id-6 div.sk-label input.sk-toggleable__control:checked~label.sk-toggleable__label {background-color: #d4ebff;}#sk-container-id-6 input.sk-hidden--visually {border: 0;clip: rect(1px 1px 1px 1px);clip: rect(1px, 1px, 1px, 1px);height: 1px;margin: -1px;overflow: hidden;padding: 0;position: absolute;width: 1px;}#sk-container-id-6 div.sk-estimator {font-family: monospace;background-color: #f0f8ff;border: 1px dotted black;border-radius: 0.25em;box-sizing: border-box;margin-bottom: 0.5em;}#sk-container-id-6 div.sk-estimator:hover {background-color: #d4ebff;}#sk-container-id-6 div.sk-parallel-item::after {content: \"\";width: 100%;border-bottom: 1px solid gray;flex-grow: 1;}#sk-container-id-6 div.sk-label:hover label.sk-toggleable__label {background-color: #d4ebff;}#sk-container-id-6 div.sk-serial::before {content: \"\";position: absolute;border-left: 1px solid gray;box-sizing: border-box;top: 0;bottom: 0;left: 50%;z-index: 0;}#sk-container-id-6 div.sk-serial {display: flex;flex-direction: column;align-items: center;background-color: white;padding-right: 0.2em;padding-left: 0.2em;position: relative;}#sk-container-id-6 div.sk-item {position: relative;z-index: 1;}#sk-container-id-6 div.sk-parallel {display: flex;align-items: stretch;justify-content: center;background-color: white;position: relative;}#sk-container-id-6 div.sk-item::before, #sk-container-id-6 div.sk-parallel-item::before {content: \"\";position: absolute;border-left: 1px solid gray;box-sizing: border-box;top: 0;bottom: 0;left: 50%;z-index: -1;}#sk-container-id-6 div.sk-parallel-item {display: flex;flex-direction: column;z-index: 1;position: relative;background-color: white;}#sk-container-id-6 div.sk-parallel-item:first-child::after {align-self: flex-end;width: 50%;}#sk-container-id-6 div.sk-parallel-item:last-child::after {align-self: flex-start;width: 50%;}#sk-container-id-6 div.sk-parallel-item:only-child::after {width: 0;}#sk-container-id-6 div.sk-dashed-wrapped {border: 1px dashed gray;margin: 0 0.4em 0.5em 0.4em;box-sizing: border-box;padding-bottom: 0.4em;background-color: white;}#sk-container-id-6 div.sk-label label {font-family: monospace;font-weight: bold;display: inline-block;line-height: 1.2em;}#sk-container-id-6 div.sk-label-container {text-align: center;}#sk-container-id-6 div.sk-container {/* jupyter's `normalize.less` sets `[hidden] { display: none; }` but bootstrap.min.css set `[hidden] { display: none !important; }` so we also need the `!important` here to be able to override the default hidden behavior on the sphinx rendered scikit-learn.org. See: https://github.com/scikit-learn/scikit-learn/issues/21755 */display: inline-block !important;position: relative;}#sk-container-id-6 div.sk-text-repr-fallback {display: none;}</style><div id=\"sk-container-id-6\" class=\"sk-top-container\"><div class=\"sk-text-repr-fallback\"><pre>Lasso(random_state=42)</pre><b>In a Jupyter environment, please rerun this cell to show the HTML representation or trust the notebook. <br />On GitHub, the HTML representation is unable to render, please try loading this page with nbviewer.org.</b></div><div class=\"sk-container\" hidden><div class=\"sk-item\"><div class=\"sk-estimator sk-toggleable\"><input class=\"sk-toggleable__control sk-hidden--visually\" id=\"sk-estimator-id-6\" type=\"checkbox\" checked><label for=\"sk-estimator-id-6\" class=\"sk-toggleable__label sk-toggleable__label-arrow\">Lasso</label><div class=\"sk-toggleable__content\"><pre>Lasso(random_state=42)</pre></div></div></div></div></div>"
      ],
      "text/plain": [
       "Lasso(random_state=42)"
      ]
     },
     "execution_count": 51,
     "metadata": {},
     "output_type": "execute_result"
    }
   ],
   "source": [
    "lasso_model.fit(X_train_scaled, y_train)"
   ]
  },
  {
   "cell_type": "code",
   "execution_count": 52,
   "id": "3e235697-ba6c-4d68-b6d9-3d0c6285480d",
   "metadata": {
    "tags": []
   },
   "outputs": [
    {
     "data": {
      "text/html": [
       "<div>\n",
       "<style scoped>\n",
       "    .dataframe tbody tr th:only-of-type {\n",
       "        vertical-align: middle;\n",
       "    }\n",
       "\n",
       "    .dataframe tbody tr th {\n",
       "        vertical-align: top;\n",
       "    }\n",
       "\n",
       "    .dataframe thead th {\n",
       "        text-align: right;\n",
       "    }\n",
       "</style>\n",
       "<table border=\"1\" class=\"dataframe\">\n",
       "  <thead>\n",
       "    <tr style=\"text-align: right;\">\n",
       "      <th></th>\n",
       "      <th>lasso_model_train</th>\n",
       "      <th>lasso_model_test</th>\n",
       "    </tr>\n",
       "  </thead>\n",
       "  <tbody>\n",
       "    <tr>\n",
       "      <th>R2</th>\n",
       "      <td>0.984576</td>\n",
       "      <td>0.980244</td>\n",
       "    </tr>\n",
       "    <tr>\n",
       "      <th>mae</th>\n",
       "      <td>4.485573</td>\n",
       "      <td>4.999883</td>\n",
       "    </tr>\n",
       "    <tr>\n",
       "      <th>mse</th>\n",
       "      <td>52.810775</td>\n",
       "      <td>67.303072</td>\n",
       "    </tr>\n",
       "    <tr>\n",
       "      <th>rmse</th>\n",
       "      <td>7.267102</td>\n",
       "      <td>8.203845</td>\n",
       "    </tr>\n",
       "  </tbody>\n",
       "</table>\n",
       "</div>"
      ],
      "text/plain": [
       "      lasso_model_train  lasso_model_test\n",
       "R2             0.984576          0.980244\n",
       "mae            4.485573          4.999883\n",
       "mse           52.810775         67.303072\n",
       "rmse           7.267102          8.203845"
      ]
     },
     "execution_count": 52,
     "metadata": {},
     "output_type": "execute_result"
    }
   ],
   "source": [
    "y_pred = lasso_model.predict(X_test_scaled)\n",
    "y_train_pred = lasso_model.predict(X_train_scaled)\n",
    "\n",
    "lasso_scores = train_val(y_train, y_train_pred, y_test, y_pred, 'lasso_model')\n",
    "lasso_scores"
   ]
  },
  {
   "cell_type": "markdown",
   "id": "f459db99-5dc3-442b-a0e4-0fef0214fa59",
   "metadata": {
    "tags": []
   },
   "source": [
    "## Lasso - Cross VAlidation"
   ]
  },
  {
   "cell_type": "code",
   "execution_count": 53,
   "id": "e92538a5-2909-4982-ba7c-151f6faf11d3",
   "metadata": {
    "tags": []
   },
   "outputs": [
    {
     "name": "stdout",
     "output_type": "stream",
     "text": [
      "Average R2 Score: 0.9740241288417666\n",
      "Average -RMSE   : -9.236085737008747\n",
      "\n"
     ]
    },
    {
     "data": {
      "text/html": [
       "<div>\n",
       "<style scoped>\n",
       "    .dataframe tbody tr th:only-of-type {\n",
       "        vertical-align: middle;\n",
       "    }\n",
       "\n",
       "    .dataframe tbody tr th {\n",
       "        vertical-align: top;\n",
       "    }\n",
       "\n",
       "    .dataframe thead th {\n",
       "        text-align: right;\n",
       "    }\n",
       "</style>\n",
       "<table border=\"1\" class=\"dataframe\">\n",
       "  <thead>\n",
       "    <tr style=\"text-align: right;\">\n",
       "      <th></th>\n",
       "      <th>test_r2</th>\n",
       "      <th>test_neg_root_mean_squared_error</th>\n",
       "    </tr>\n",
       "  </thead>\n",
       "  <tbody>\n",
       "    <tr>\n",
       "      <th>0</th>\n",
       "      <td>0.937052</td>\n",
       "      <td>-16.137316</td>\n",
       "    </tr>\n",
       "    <tr>\n",
       "      <th>1</th>\n",
       "      <td>0.973117</td>\n",
       "      <td>-9.585696</td>\n",
       "    </tr>\n",
       "    <tr>\n",
       "      <th>2</th>\n",
       "      <td>0.973396</td>\n",
       "      <td>-9.725698</td>\n",
       "    </tr>\n",
       "    <tr>\n",
       "      <th>3</th>\n",
       "      <td>0.975493</td>\n",
       "      <td>-8.515442</td>\n",
       "    </tr>\n",
       "    <tr>\n",
       "      <th>4</th>\n",
       "      <td>0.980971</td>\n",
       "      <td>-7.798463</td>\n",
       "    </tr>\n",
       "    <tr>\n",
       "      <th>5</th>\n",
       "      <td>0.983901</td>\n",
       "      <td>-7.445449</td>\n",
       "    </tr>\n",
       "    <tr>\n",
       "      <th>6</th>\n",
       "      <td>0.976324</td>\n",
       "      <td>-8.843422</td>\n",
       "    </tr>\n",
       "    <tr>\n",
       "      <th>7</th>\n",
       "      <td>0.977424</td>\n",
       "      <td>-8.115060</td>\n",
       "    </tr>\n",
       "    <tr>\n",
       "      <th>8</th>\n",
       "      <td>0.984646</td>\n",
       "      <td>-7.177380</td>\n",
       "    </tr>\n",
       "    <tr>\n",
       "      <th>9</th>\n",
       "      <td>0.977919</td>\n",
       "      <td>-9.016933</td>\n",
       "    </tr>\n",
       "  </tbody>\n",
       "</table>\n",
       "</div>"
      ],
      "text/plain": [
       "    test_r2  test_neg_root_mean_squared_error\n",
       "0  0.937052                        -16.137316\n",
       "1  0.973117                         -9.585696\n",
       "2  0.973396                         -9.725698\n",
       "3  0.975493                         -8.515442\n",
       "4  0.980971                         -7.798463\n",
       "5  0.983901                         -7.445449\n",
       "6  0.976324                         -8.843422\n",
       "7  0.977424                         -8.115060\n",
       "8  0.984646                         -7.177380\n",
       "9  0.977919                         -9.016933"
      ]
     },
     "execution_count": 53,
     "metadata": {},
     "output_type": "execute_result"
    }
   ],
   "source": [
    "cv_metrics = ('r2', 'neg_root_mean_squared_error')\n",
    "lm_scores_cv = pd.DataFrame(cross_validate(lasso_model, X_encoded, y, cv=10, scoring= cv_metrics)).iloc[:, 2:]\n",
    "print(f\"Average R2 Score: {lm_scores_cv['test_r2'].mean()}\")\n",
    "print(f\"Average -RMSE   : {lm_scores_cv['test_neg_root_mean_squared_error'].mean()}\\n\")\n",
    "lm_scores_cv"
   ]
  },
  {
   "cell_type": "markdown",
   "id": "efcdfdea-d7e1-4e21-84ba-843b5be8b88e",
   "metadata": {
    "tags": []
   },
   "source": [
    "## Hyperparametre Tuning for Lasso Regression"
   ]
  },
  {
   "cell_type": "code",
   "execution_count": 54,
   "id": "e41bd7b6-a291-47f9-a7ef-f9238862dc93",
   "metadata": {
    "tags": []
   },
   "outputs": [],
   "source": [
    "alpha_space = np.logspace(-3, 2, 100)"
   ]
  },
  {
   "cell_type": "code",
   "execution_count": 55,
   "id": "f5852f93-328f-4060-bb04-1ac4c13e63bd",
   "metadata": {
    "tags": []
   },
   "outputs": [],
   "source": [
    "lasso_model_hyp = LassoCV(alphas=alpha_space, cv=10, max_iter=100_000, random_state=42)"
   ]
  },
  {
   "cell_type": "code",
   "execution_count": 56,
   "id": "64edb323-a3d4-4d57-a294-2b0014d6bd12",
   "metadata": {
    "tags": []
   },
   "outputs": [
    {
     "data": {
      "text/html": [
       "<style>#sk-container-id-7 {color: black;background-color: white;}#sk-container-id-7 pre{padding: 0;}#sk-container-id-7 div.sk-toggleable {background-color: white;}#sk-container-id-7 label.sk-toggleable__label {cursor: pointer;display: block;width: 100%;margin-bottom: 0;padding: 0.3em;box-sizing: border-box;text-align: center;}#sk-container-id-7 label.sk-toggleable__label-arrow:before {content: \"▸\";float: left;margin-right: 0.25em;color: #696969;}#sk-container-id-7 label.sk-toggleable__label-arrow:hover:before {color: black;}#sk-container-id-7 div.sk-estimator:hover label.sk-toggleable__label-arrow:before {color: black;}#sk-container-id-7 div.sk-toggleable__content {max-height: 0;max-width: 0;overflow: hidden;text-align: left;background-color: #f0f8ff;}#sk-container-id-7 div.sk-toggleable__content pre {margin: 0.2em;color: black;border-radius: 0.25em;background-color: #f0f8ff;}#sk-container-id-7 input.sk-toggleable__control:checked~div.sk-toggleable__content {max-height: 200px;max-width: 100%;overflow: auto;}#sk-container-id-7 input.sk-toggleable__control:checked~label.sk-toggleable__label-arrow:before {content: \"▾\";}#sk-container-id-7 div.sk-estimator input.sk-toggleable__control:checked~label.sk-toggleable__label {background-color: #d4ebff;}#sk-container-id-7 div.sk-label input.sk-toggleable__control:checked~label.sk-toggleable__label {background-color: #d4ebff;}#sk-container-id-7 input.sk-hidden--visually {border: 0;clip: rect(1px 1px 1px 1px);clip: rect(1px, 1px, 1px, 1px);height: 1px;margin: -1px;overflow: hidden;padding: 0;position: absolute;width: 1px;}#sk-container-id-7 div.sk-estimator {font-family: monospace;background-color: #f0f8ff;border: 1px dotted black;border-radius: 0.25em;box-sizing: border-box;margin-bottom: 0.5em;}#sk-container-id-7 div.sk-estimator:hover {background-color: #d4ebff;}#sk-container-id-7 div.sk-parallel-item::after {content: \"\";width: 100%;border-bottom: 1px solid gray;flex-grow: 1;}#sk-container-id-7 div.sk-label:hover label.sk-toggleable__label {background-color: #d4ebff;}#sk-container-id-7 div.sk-serial::before {content: \"\";position: absolute;border-left: 1px solid gray;box-sizing: border-box;top: 0;bottom: 0;left: 50%;z-index: 0;}#sk-container-id-7 div.sk-serial {display: flex;flex-direction: column;align-items: center;background-color: white;padding-right: 0.2em;padding-left: 0.2em;position: relative;}#sk-container-id-7 div.sk-item {position: relative;z-index: 1;}#sk-container-id-7 div.sk-parallel {display: flex;align-items: stretch;justify-content: center;background-color: white;position: relative;}#sk-container-id-7 div.sk-item::before, #sk-container-id-7 div.sk-parallel-item::before {content: \"\";position: absolute;border-left: 1px solid gray;box-sizing: border-box;top: 0;bottom: 0;left: 50%;z-index: -1;}#sk-container-id-7 div.sk-parallel-item {display: flex;flex-direction: column;z-index: 1;position: relative;background-color: white;}#sk-container-id-7 div.sk-parallel-item:first-child::after {align-self: flex-end;width: 50%;}#sk-container-id-7 div.sk-parallel-item:last-child::after {align-self: flex-start;width: 50%;}#sk-container-id-7 div.sk-parallel-item:only-child::after {width: 0;}#sk-container-id-7 div.sk-dashed-wrapped {border: 1px dashed gray;margin: 0 0.4em 0.5em 0.4em;box-sizing: border-box;padding-bottom: 0.4em;background-color: white;}#sk-container-id-7 div.sk-label label {font-family: monospace;font-weight: bold;display: inline-block;line-height: 1.2em;}#sk-container-id-7 div.sk-label-container {text-align: center;}#sk-container-id-7 div.sk-container {/* jupyter's `normalize.less` sets `[hidden] { display: none; }` but bootstrap.min.css set `[hidden] { display: none !important; }` so we also need the `!important` here to be able to override the default hidden behavior on the sphinx rendered scikit-learn.org. See: https://github.com/scikit-learn/scikit-learn/issues/21755 */display: inline-block !important;position: relative;}#sk-container-id-7 div.sk-text-repr-fallback {display: none;}</style><div id=\"sk-container-id-7\" class=\"sk-top-container\"><div class=\"sk-text-repr-fallback\"><pre>LassoCV(alphas=array([1.00000000e-03, 1.12332403e-03, 1.26185688e-03, 1.41747416e-03,\n",
       "       1.59228279e-03, 1.78864953e-03, 2.00923300e-03, 2.25701972e-03,\n",
       "       2.53536449e-03, 2.84803587e-03, 3.19926714e-03, 3.59381366e-03,\n",
       "       4.03701726e-03, 4.53487851e-03, 5.09413801e-03, 5.72236766e-03,\n",
       "       6.42807312e-03, 7.22080902e-03, 8.11130831e-03, 9.11162756e-03,\n",
       "       1.02353102e-02, 1.14975700e-0...\n",
       "       6.89261210e+00, 7.74263683e+00, 8.69749003e+00, 9.77009957e+00,\n",
       "       1.09749877e+01, 1.23284674e+01, 1.38488637e+01, 1.55567614e+01,\n",
       "       1.74752840e+01, 1.96304065e+01, 2.20513074e+01, 2.47707636e+01,\n",
       "       2.78255940e+01, 3.12571585e+01, 3.51119173e+01, 3.94420606e+01,\n",
       "       4.43062146e+01, 4.97702356e+01, 5.59081018e+01, 6.28029144e+01,\n",
       "       7.05480231e+01, 7.92482898e+01, 8.90215085e+01, 1.00000000e+02]),\n",
       "        cv=10, max_iter=100000, random_state=42)</pre><b>In a Jupyter environment, please rerun this cell to show the HTML representation or trust the notebook. <br />On GitHub, the HTML representation is unable to render, please try loading this page with nbviewer.org.</b></div><div class=\"sk-container\" hidden><div class=\"sk-item\"><div class=\"sk-estimator sk-toggleable\"><input class=\"sk-toggleable__control sk-hidden--visually\" id=\"sk-estimator-id-7\" type=\"checkbox\" checked><label for=\"sk-estimator-id-7\" class=\"sk-toggleable__label sk-toggleable__label-arrow\">LassoCV</label><div class=\"sk-toggleable__content\"><pre>LassoCV(alphas=array([1.00000000e-03, 1.12332403e-03, 1.26185688e-03, 1.41747416e-03,\n",
       "       1.59228279e-03, 1.78864953e-03, 2.00923300e-03, 2.25701972e-03,\n",
       "       2.53536449e-03, 2.84803587e-03, 3.19926714e-03, 3.59381366e-03,\n",
       "       4.03701726e-03, 4.53487851e-03, 5.09413801e-03, 5.72236766e-03,\n",
       "       6.42807312e-03, 7.22080902e-03, 8.11130831e-03, 9.11162756e-03,\n",
       "       1.02353102e-02, 1.14975700e-0...\n",
       "       6.89261210e+00, 7.74263683e+00, 8.69749003e+00, 9.77009957e+00,\n",
       "       1.09749877e+01, 1.23284674e+01, 1.38488637e+01, 1.55567614e+01,\n",
       "       1.74752840e+01, 1.96304065e+01, 2.20513074e+01, 2.47707636e+01,\n",
       "       2.78255940e+01, 3.12571585e+01, 3.51119173e+01, 3.94420606e+01,\n",
       "       4.43062146e+01, 4.97702356e+01, 5.59081018e+01, 6.28029144e+01,\n",
       "       7.05480231e+01, 7.92482898e+01, 8.90215085e+01, 1.00000000e+02]),\n",
       "        cv=10, max_iter=100000, random_state=42)</pre></div></div></div></div></div>"
      ],
      "text/plain": [
       "LassoCV(alphas=array([1.00000000e-03, 1.12332403e-03, 1.26185688e-03, 1.41747416e-03,\n",
       "       1.59228279e-03, 1.78864953e-03, 2.00923300e-03, 2.25701972e-03,\n",
       "       2.53536449e-03, 2.84803587e-03, 3.19926714e-03, 3.59381366e-03,\n",
       "       4.03701726e-03, 4.53487851e-03, 5.09413801e-03, 5.72236766e-03,\n",
       "       6.42807312e-03, 7.22080902e-03, 8.11130831e-03, 9.11162756e-03,\n",
       "       1.02353102e-02, 1.14975700e-0...\n",
       "       6.89261210e+00, 7.74263683e+00, 8.69749003e+00, 9.77009957e+00,\n",
       "       1.09749877e+01, 1.23284674e+01, 1.38488637e+01, 1.55567614e+01,\n",
       "       1.74752840e+01, 1.96304065e+01, 2.20513074e+01, 2.47707636e+01,\n",
       "       2.78255940e+01, 3.12571585e+01, 3.51119173e+01, 3.94420606e+01,\n",
       "       4.43062146e+01, 4.97702356e+01, 5.59081018e+01, 6.28029144e+01,\n",
       "       7.05480231e+01, 7.92482898e+01, 8.90215085e+01, 1.00000000e+02]),\n",
       "        cv=10, max_iter=100000, random_state=42)"
      ]
     },
     "execution_count": 56,
     "metadata": {},
     "output_type": "execute_result"
    }
   ],
   "source": [
    "lasso_model_hyp.fit(X_train_scaled, y_train)"
   ]
  },
  {
   "cell_type": "code",
   "execution_count": 57,
   "id": "8f165b27-2aff-4ada-a13d-c718e1cfabf4",
   "metadata": {
    "tags": []
   },
   "outputs": [
    {
     "data": {
      "text/plain": [
       "0.001"
      ]
     },
     "execution_count": 57,
     "metadata": {},
     "output_type": "execute_result"
    }
   ],
   "source": [
    "lasso_model_hyp.alpha_"
   ]
  },
  {
   "cell_type": "code",
   "execution_count": 58,
   "id": "9037a52e-eb82-4acd-8b82-b91b7c21f644",
   "metadata": {
    "tags": []
   },
   "outputs": [
    {
     "data": {
      "text/html": [
       "<div>\n",
       "<style scoped>\n",
       "    .dataframe tbody tr th:only-of-type {\n",
       "        vertical-align: middle;\n",
       "    }\n",
       "\n",
       "    .dataframe tbody tr th {\n",
       "        vertical-align: top;\n",
       "    }\n",
       "\n",
       "    .dataframe thead th {\n",
       "        text-align: right;\n",
       "    }\n",
       "</style>\n",
       "<table border=\"1\" class=\"dataframe\">\n",
       "  <thead>\n",
       "    <tr style=\"text-align: right;\">\n",
       "      <th></th>\n",
       "      <th>lasso_hyp_model_train</th>\n",
       "      <th>lasso_hyp_model_test</th>\n",
       "    </tr>\n",
       "  </thead>\n",
       "  <tbody>\n",
       "    <tr>\n",
       "      <th>R2</th>\n",
       "      <td>0.992745</td>\n",
       "      <td>0.991408</td>\n",
       "    </tr>\n",
       "    <tr>\n",
       "      <th>mae</th>\n",
       "      <td>2.932522</td>\n",
       "      <td>3.045063</td>\n",
       "    </tr>\n",
       "    <tr>\n",
       "      <th>mse</th>\n",
       "      <td>24.840517</td>\n",
       "      <td>29.271426</td>\n",
       "    </tr>\n",
       "    <tr>\n",
       "      <th>rmse</th>\n",
       "      <td>4.984026</td>\n",
       "      <td>5.410307</td>\n",
       "    </tr>\n",
       "  </tbody>\n",
       "</table>\n",
       "</div>"
      ],
      "text/plain": [
       "      lasso_hyp_model_train  lasso_hyp_model_test\n",
       "R2                 0.992745              0.991408\n",
       "mae                2.932522              3.045063\n",
       "mse               24.840517             29.271426\n",
       "rmse               4.984026              5.410307"
      ]
     },
     "execution_count": 58,
     "metadata": {},
     "output_type": "execute_result"
    }
   ],
   "source": [
    "y_pred = lasso_model_hyp.predict(X_test_scaled)\n",
    "y_train_pred = lasso_model_hyp.predict(X_train_scaled)\n",
    "\n",
    "lasso_scores_hyp = train_val(y_train, y_train_pred, y_test, y_pred, 'lasso_hyp_model')\n",
    "lasso_scores_hyp"
   ]
  },
  {
   "cell_type": "markdown",
   "id": "911d037c-b93f-4da0-928f-8bdc607b437a",
   "metadata": {},
   "source": [
    "# Comparing all models"
   ]
  },
  {
   "cell_type": "code",
   "execution_count": 59,
   "id": "b78ab9c6-97de-468f-b806-cbea4936652c",
   "metadata": {
    "tags": []
   },
   "outputs": [
    {
     "data": {
      "text/html": [
       "<div>\n",
       "<style scoped>\n",
       "    .dataframe tbody tr th:only-of-type {\n",
       "        vertical-align: middle;\n",
       "    }\n",
       "\n",
       "    .dataframe tbody tr th {\n",
       "        vertical-align: top;\n",
       "    }\n",
       "\n",
       "    .dataframe thead th {\n",
       "        text-align: right;\n",
       "    }\n",
       "</style>\n",
       "<table border=\"1\" class=\"dataframe\">\n",
       "  <thead>\n",
       "    <tr style=\"text-align: right;\">\n",
       "      <th></th>\n",
       "      <th>SL_train</th>\n",
       "      <th>SL_test</th>\n",
       "      <th>ML_train</th>\n",
       "      <th>ML_test</th>\n",
       "      <th>Ridge_train</th>\n",
       "      <th>Ridge_test</th>\n",
       "      <th>Lasso_train</th>\n",
       "      <th>Lasso_test</th>\n",
       "    </tr>\n",
       "  </thead>\n",
       "  <tbody>\n",
       "    <tr>\n",
       "      <th>R2</th>\n",
       "      <td>0.724028</td>\n",
       "      <td>0.727279</td>\n",
       "      <td>0.992745</td>\n",
       "      <td>0.991407</td>\n",
       "      <td>0.992744</td>\n",
       "      <td>0.991412</td>\n",
       "      <td>0.992745</td>\n",
       "      <td>0.991408</td>\n",
       "    </tr>\n",
       "    <tr>\n",
       "      <th>mae</th>\n",
       "      <td>23.352349</td>\n",
       "      <td>22.719023</td>\n",
       "      <td>2.932452</td>\n",
       "      <td>3.044878</td>\n",
       "      <td>2.943719</td>\n",
       "      <td>3.059228</td>\n",
       "      <td>2.932522</td>\n",
       "      <td>3.045063</td>\n",
       "    </tr>\n",
       "    <tr>\n",
       "      <th>mse</th>\n",
       "      <td>944.918571</td>\n",
       "      <td>929.071052</td>\n",
       "      <td>24.839278</td>\n",
       "      <td>29.273172</td>\n",
       "      <td>24.845513</td>\n",
       "      <td>29.257679</td>\n",
       "      <td>24.840517</td>\n",
       "      <td>29.271426</td>\n",
       "    </tr>\n",
       "    <tr>\n",
       "      <th>rmse</th>\n",
       "      <td>30.739528</td>\n",
       "      <td>30.480667</td>\n",
       "      <td>4.983902</td>\n",
       "      <td>5.410469</td>\n",
       "      <td>4.984527</td>\n",
       "      <td>5.409037</td>\n",
       "      <td>4.984026</td>\n",
       "      <td>5.410307</td>\n",
       "    </tr>\n",
       "  </tbody>\n",
       "</table>\n",
       "</div>"
      ],
      "text/plain": [
       "        SL_train     SL_test   ML_train    ML_test  Ridge_train  Ridge_test  \\\n",
       "R2      0.724028    0.727279   0.992745   0.991407     0.992744    0.991412   \n",
       "mae    23.352349   22.719023   2.932452   3.044878     2.943719    3.059228   \n",
       "mse   944.918571  929.071052  24.839278  29.273172    24.845513   29.257679   \n",
       "rmse   30.739528   30.480667   4.983902   5.410469     4.984527    5.409037   \n",
       "\n",
       "      Lasso_train  Lasso_test  \n",
       "R2       0.992745    0.991408  \n",
       "mae      2.932522    3.045063  \n",
       "mse     24.840517   29.271426  \n",
       "rmse     4.984026    5.410307  "
      ]
     },
     "execution_count": 59,
     "metadata": {},
     "output_type": "execute_result"
    }
   ],
   "source": [
    "compare_results_df = pd.concat([slm_scores, mlm_scores, ridge_scores_hyp, lasso_scores_hyp], axis=1)\n",
    "column_names = ['SL_train', 'SL_test', 'ML_train', 'ML_test', 'Ridge_train', 'Ridge_test', 'Lasso_train', 'Lasso_test']\n",
    "compare_results_df.columns = column_names\n",
    "compare_results_df"
   ]
  },
  {
   "cell_type": "markdown",
   "id": "3c2a8e4a-302d-43b5-ac2d-e226dff453f9",
   "metadata": {},
   "source": [
    "__Altough Ridge and Lasso results are very similar, i will prefer Lasso Regularization due to its simplicity over features__"
   ]
  },
  {
   "cell_type": "code",
   "execution_count": null,
   "id": "86672f0c-342e-4189-bf0f-704972d4c2df",
   "metadata": {},
   "outputs": [],
   "source": []
  },
  {
   "cell_type": "markdown",
   "id": "5ac4ad08-2163-4a86-b21e-dd54223fa313",
   "metadata": {
    "tags": []
   },
   "source": [
    "# Best Model Feature Importances"
   ]
  },
  {
   "cell_type": "markdown",
   "id": "d973178e-19b6-4bd0-a3db-36e8dafc4edc",
   "metadata": {},
   "source": [
    "__After finding the best alpha, we should fit the model with Lasso for final check, and with best alpha value__"
   ]
  },
  {
   "cell_type": "code",
   "execution_count": 60,
   "id": "1b7fc0f5-b7ec-40ff-8d8c-8a785adf05d0",
   "metadata": {
    "tags": []
   },
   "outputs": [
    {
     "data": {
      "text/plain": [
       "0.001"
      ]
     },
     "execution_count": 60,
     "metadata": {},
     "output_type": "execute_result"
    }
   ],
   "source": [
    "best_alpha = round(lasso_model_hyp.alpha_, 3)\n",
    "best_alpha"
   ]
  },
  {
   "cell_type": "code",
   "execution_count": 61,
   "id": "9633be26-2960-418b-8b2f-00920c615954",
   "metadata": {
    "tags": []
   },
   "outputs": [
    {
     "data": {
      "text/html": [
       "<style>#sk-container-id-8 {color: black;background-color: white;}#sk-container-id-8 pre{padding: 0;}#sk-container-id-8 div.sk-toggleable {background-color: white;}#sk-container-id-8 label.sk-toggleable__label {cursor: pointer;display: block;width: 100%;margin-bottom: 0;padding: 0.3em;box-sizing: border-box;text-align: center;}#sk-container-id-8 label.sk-toggleable__label-arrow:before {content: \"▸\";float: left;margin-right: 0.25em;color: #696969;}#sk-container-id-8 label.sk-toggleable__label-arrow:hover:before {color: black;}#sk-container-id-8 div.sk-estimator:hover label.sk-toggleable__label-arrow:before {color: black;}#sk-container-id-8 div.sk-toggleable__content {max-height: 0;max-width: 0;overflow: hidden;text-align: left;background-color: #f0f8ff;}#sk-container-id-8 div.sk-toggleable__content pre {margin: 0.2em;color: black;border-radius: 0.25em;background-color: #f0f8ff;}#sk-container-id-8 input.sk-toggleable__control:checked~div.sk-toggleable__content {max-height: 200px;max-width: 100%;overflow: auto;}#sk-container-id-8 input.sk-toggleable__control:checked~label.sk-toggleable__label-arrow:before {content: \"▾\";}#sk-container-id-8 div.sk-estimator input.sk-toggleable__control:checked~label.sk-toggleable__label {background-color: #d4ebff;}#sk-container-id-8 div.sk-label input.sk-toggleable__control:checked~label.sk-toggleable__label {background-color: #d4ebff;}#sk-container-id-8 input.sk-hidden--visually {border: 0;clip: rect(1px 1px 1px 1px);clip: rect(1px, 1px, 1px, 1px);height: 1px;margin: -1px;overflow: hidden;padding: 0;position: absolute;width: 1px;}#sk-container-id-8 div.sk-estimator {font-family: monospace;background-color: #f0f8ff;border: 1px dotted black;border-radius: 0.25em;box-sizing: border-box;margin-bottom: 0.5em;}#sk-container-id-8 div.sk-estimator:hover {background-color: #d4ebff;}#sk-container-id-8 div.sk-parallel-item::after {content: \"\";width: 100%;border-bottom: 1px solid gray;flex-grow: 1;}#sk-container-id-8 div.sk-label:hover label.sk-toggleable__label {background-color: #d4ebff;}#sk-container-id-8 div.sk-serial::before {content: \"\";position: absolute;border-left: 1px solid gray;box-sizing: border-box;top: 0;bottom: 0;left: 50%;z-index: 0;}#sk-container-id-8 div.sk-serial {display: flex;flex-direction: column;align-items: center;background-color: white;padding-right: 0.2em;padding-left: 0.2em;position: relative;}#sk-container-id-8 div.sk-item {position: relative;z-index: 1;}#sk-container-id-8 div.sk-parallel {display: flex;align-items: stretch;justify-content: center;background-color: white;position: relative;}#sk-container-id-8 div.sk-item::before, #sk-container-id-8 div.sk-parallel-item::before {content: \"\";position: absolute;border-left: 1px solid gray;box-sizing: border-box;top: 0;bottom: 0;left: 50%;z-index: -1;}#sk-container-id-8 div.sk-parallel-item {display: flex;flex-direction: column;z-index: 1;position: relative;background-color: white;}#sk-container-id-8 div.sk-parallel-item:first-child::after {align-self: flex-end;width: 50%;}#sk-container-id-8 div.sk-parallel-item:last-child::after {align-self: flex-start;width: 50%;}#sk-container-id-8 div.sk-parallel-item:only-child::after {width: 0;}#sk-container-id-8 div.sk-dashed-wrapped {border: 1px dashed gray;margin: 0 0.4em 0.5em 0.4em;box-sizing: border-box;padding-bottom: 0.4em;background-color: white;}#sk-container-id-8 div.sk-label label {font-family: monospace;font-weight: bold;display: inline-block;line-height: 1.2em;}#sk-container-id-8 div.sk-label-container {text-align: center;}#sk-container-id-8 div.sk-container {/* jupyter's `normalize.less` sets `[hidden] { display: none; }` but bootstrap.min.css set `[hidden] { display: none !important; }` so we also need the `!important` here to be able to override the default hidden behavior on the sphinx rendered scikit-learn.org. See: https://github.com/scikit-learn/scikit-learn/issues/21755 */display: inline-block !important;position: relative;}#sk-container-id-8 div.sk-text-repr-fallback {display: none;}</style><div id=\"sk-container-id-8\" class=\"sk-top-container\"><div class=\"sk-text-repr-fallback\"><pre>Lasso(alpha=0.001, random_state=42)</pre><b>In a Jupyter environment, please rerun this cell to show the HTML representation or trust the notebook. <br />On GitHub, the HTML representation is unable to render, please try loading this page with nbviewer.org.</b></div><div class=\"sk-container\" hidden><div class=\"sk-item\"><div class=\"sk-estimator sk-toggleable\"><input class=\"sk-toggleable__control sk-hidden--visually\" id=\"sk-estimator-id-8\" type=\"checkbox\" checked><label for=\"sk-estimator-id-8\" class=\"sk-toggleable__label sk-toggleable__label-arrow\">Lasso</label><div class=\"sk-toggleable__content\"><pre>Lasso(alpha=0.001, random_state=42)</pre></div></div></div></div></div>"
      ],
      "text/plain": [
       "Lasso(alpha=0.001, random_state=42)"
      ]
     },
     "execution_count": 61,
     "metadata": {},
     "output_type": "execute_result"
    }
   ],
   "source": [
    "best_model = Lasso(alpha=best_alpha, random_state=42)\n",
    "best_model.fit(X_train_scaled, y_train)"
   ]
  },
  {
   "cell_type": "code",
   "execution_count": 62,
   "id": "911bf1bd-448e-4e70-aff0-a05197e78da5",
   "metadata": {
    "tags": []
   },
   "outputs": [
    {
     "data": {
      "text/html": [
       "<div>\n",
       "<style scoped>\n",
       "    .dataframe tbody tr th:only-of-type {\n",
       "        vertical-align: middle;\n",
       "    }\n",
       "\n",
       "    .dataframe tbody tr th {\n",
       "        vertical-align: top;\n",
       "    }\n",
       "\n",
       "    .dataframe thead th {\n",
       "        text-align: right;\n",
       "    }\n",
       "</style>\n",
       "<table border=\"1\" class=\"dataframe\">\n",
       "  <thead>\n",
       "    <tr style=\"text-align: right;\">\n",
       "      <th></th>\n",
       "      <th>best_model_train</th>\n",
       "      <th>best_model_test</th>\n",
       "    </tr>\n",
       "  </thead>\n",
       "  <tbody>\n",
       "    <tr>\n",
       "      <th>R2</th>\n",
       "      <td>0.992745</td>\n",
       "      <td>0.991408</td>\n",
       "    </tr>\n",
       "    <tr>\n",
       "      <th>mae</th>\n",
       "      <td>2.932522</td>\n",
       "      <td>3.045063</td>\n",
       "    </tr>\n",
       "    <tr>\n",
       "      <th>mse</th>\n",
       "      <td>24.840517</td>\n",
       "      <td>29.271426</td>\n",
       "    </tr>\n",
       "    <tr>\n",
       "      <th>rmse</th>\n",
       "      <td>4.984026</td>\n",
       "      <td>5.410307</td>\n",
       "    </tr>\n",
       "  </tbody>\n",
       "</table>\n",
       "</div>"
      ],
      "text/plain": [
       "      best_model_train  best_model_test\n",
       "R2            0.992745         0.991408\n",
       "mae           2.932522         3.045063\n",
       "mse          24.840517        29.271426\n",
       "rmse          4.984026         5.410307"
      ]
     },
     "execution_count": 62,
     "metadata": {},
     "output_type": "execute_result"
    }
   ],
   "source": [
    "y_pred = best_model.predict(X_test_scaled)\n",
    "y_train_pred = best_model.predict(X_train_scaled)\n",
    "\n",
    "best_scores = train_val(y_train, y_train_pred, y_test, y_pred, 'best_model')\n",
    "best_scores"
   ]
  },
  {
   "cell_type": "code",
   "execution_count": 63,
   "id": "1b185e2d-4f3c-42d3-9748-866e13faa11c",
   "metadata": {
    "tags": []
   },
   "outputs": [
    {
     "name": "stdout",
     "output_type": "stream",
     "text": [
      "Average R2 Score: 0.9908440668200662\n",
      "Average -RMSE   : -5.258735345240368\n",
      "\n"
     ]
    },
    {
     "data": {
      "text/html": [
       "<div>\n",
       "<style scoped>\n",
       "    .dataframe tbody tr th:only-of-type {\n",
       "        vertical-align: middle;\n",
       "    }\n",
       "\n",
       "    .dataframe tbody tr th {\n",
       "        vertical-align: top;\n",
       "    }\n",
       "\n",
       "    .dataframe thead th {\n",
       "        text-align: right;\n",
       "    }\n",
       "</style>\n",
       "<table border=\"1\" class=\"dataframe\">\n",
       "  <thead>\n",
       "    <tr style=\"text-align: right;\">\n",
       "      <th></th>\n",
       "      <th>test_r2</th>\n",
       "      <th>test_neg_root_mean_squared_error</th>\n",
       "    </tr>\n",
       "  </thead>\n",
       "  <tbody>\n",
       "    <tr>\n",
       "      <th>0</th>\n",
       "      <td>0.972922</td>\n",
       "      <td>-10.584012</td>\n",
       "    </tr>\n",
       "    <tr>\n",
       "      <th>1</th>\n",
       "      <td>0.990854</td>\n",
       "      <td>-5.591242</td>\n",
       "    </tr>\n",
       "    <tr>\n",
       "      <th>2</th>\n",
       "      <td>0.989224</td>\n",
       "      <td>-6.189626</td>\n",
       "    </tr>\n",
       "    <tr>\n",
       "      <th>3</th>\n",
       "      <td>0.983791</td>\n",
       "      <td>-6.925416</td>\n",
       "    </tr>\n",
       "    <tr>\n",
       "      <th>4</th>\n",
       "      <td>0.992048</td>\n",
       "      <td>-5.041102</td>\n",
       "    </tr>\n",
       "    <tr>\n",
       "      <th>5</th>\n",
       "      <td>0.995016</td>\n",
       "      <td>-4.142704</td>\n",
       "    </tr>\n",
       "    <tr>\n",
       "      <th>6</th>\n",
       "      <td>0.995047</td>\n",
       "      <td>-4.045010</td>\n",
       "    </tr>\n",
       "    <tr>\n",
       "      <th>7</th>\n",
       "      <td>0.995425</td>\n",
       "      <td>-3.653188</td>\n",
       "    </tr>\n",
       "    <tr>\n",
       "      <th>8</th>\n",
       "      <td>0.997659</td>\n",
       "      <td>-2.802721</td>\n",
       "    </tr>\n",
       "    <tr>\n",
       "      <th>9</th>\n",
       "      <td>0.996456</td>\n",
       "      <td>-3.612333</td>\n",
       "    </tr>\n",
       "  </tbody>\n",
       "</table>\n",
       "</div>"
      ],
      "text/plain": [
       "    test_r2  test_neg_root_mean_squared_error\n",
       "0  0.972922                        -10.584012\n",
       "1  0.990854                         -5.591242\n",
       "2  0.989224                         -6.189626\n",
       "3  0.983791                         -6.925416\n",
       "4  0.992048                         -5.041102\n",
       "5  0.995016                         -4.142704\n",
       "6  0.995047                         -4.045010\n",
       "7  0.995425                         -3.653188\n",
       "8  0.997659                         -2.802721\n",
       "9  0.996456                         -3.612333"
      ]
     },
     "execution_count": 63,
     "metadata": {},
     "output_type": "execute_result"
    }
   ],
   "source": [
    "# Cross VAlidate the best scores\n",
    "cv_metrics = ('r2', 'neg_root_mean_squared_error')\n",
    "best_model_scores = pd.DataFrame(cross_validate(best_model, X_encoded, y, cv=10, scoring= cv_metrics)).iloc[:, 2:]\n",
    "print(f\"Average R2 Score: {best_model_scores['test_r2'].mean()}\")\n",
    "print(f\"Average -RMSE   : {best_model_scores['test_neg_root_mean_squared_error'].mean()}\\n\")\n",
    "best_model_scores"
   ]
  },
  {
   "cell_type": "code",
   "execution_count": 64,
   "id": "fd395fec-2c5d-4404-a6c9-44ba659abab5",
   "metadata": {
    "tags": []
   },
   "outputs": [
    {
     "data": {
      "text/html": [
       "<div>\n",
       "<style scoped>\n",
       "    .dataframe tbody tr th:only-of-type {\n",
       "        vertical-align: middle;\n",
       "    }\n",
       "\n",
       "    .dataframe tbody tr th {\n",
       "        vertical-align: top;\n",
       "    }\n",
       "\n",
       "    .dataframe thead th {\n",
       "        text-align: right;\n",
       "    }\n",
       "</style>\n",
       "<table border=\"1\" class=\"dataframe\">\n",
       "  <thead>\n",
       "    <tr style=\"text-align: right;\">\n",
       "      <th></th>\n",
       "      <th>Feature</th>\n",
       "      <th>Importance</th>\n",
       "    </tr>\n",
       "  </thead>\n",
       "  <tbody>\n",
       "    <tr>\n",
       "      <th>1</th>\n",
       "      <td>Fuel Consumption Comb (L/100 km)</td>\n",
       "      <td>64.288096</td>\n",
       "    </tr>\n",
       "    <tr>\n",
       "      <th>58</th>\n",
       "      <td>Fuel Type_Ethanol (E85)</td>\n",
       "      <td>31.304737</td>\n",
       "    </tr>\n",
       "    <tr>\n",
       "      <th>61</th>\n",
       "      <td>Fuel Type_Regular Gasoline</td>\n",
       "      <td>14.976331</td>\n",
       "    </tr>\n",
       "    <tr>\n",
       "      <th>60</th>\n",
       "      <td>Fuel Type_Premium Gasoline</td>\n",
       "      <td>13.989052</td>\n",
       "    </tr>\n",
       "    <tr>\n",
       "      <th>59</th>\n",
       "      <td>Fuel Type_Natural Gas</td>\n",
       "      <td>1.352258</td>\n",
       "    </tr>\n",
       "  </tbody>\n",
       "</table>\n",
       "</div>"
      ],
      "text/plain": [
       "                             Feature  Importance\n",
       "1   Fuel Consumption Comb (L/100 km)   64.288096\n",
       "58           Fuel Type_Ethanol (E85)   31.304737\n",
       "61        Fuel Type_Regular Gasoline   14.976331\n",
       "60        Fuel Type_Premium Gasoline   13.989052\n",
       "59             Fuel Type_Natural Gas    1.352258"
      ]
     },
     "execution_count": 64,
     "metadata": {},
     "output_type": "execute_result"
    }
   ],
   "source": [
    "feature_importances = np.abs(best_model.coef_)\n",
    "importances_df = pd.DataFrame({'Feature': X_encoded.columns, 'Importance': feature_importances})\n",
    "importances_df = importances_df.sort_values(by='Importance', ascending=False)\n",
    "importances_df.head()"
   ]
  },
  {
   "cell_type": "code",
   "execution_count": 65,
   "id": "9d8b2b23-bf8d-48fa-969c-d96adfb606f6",
   "metadata": {
    "tags": []
   },
   "outputs": [
    {
     "data": {
      "image/png": "[encoded data removed]",
      "text/plain": [
       "<Figure size 640x480 with 1 Axes>"
      ]
     },
     "metadata": {},
     "output_type": "display_data"
    }
   ],
   "source": [
    "sns.barplot(importances_df['Feature'].head(10), importances_df['Importance'].head(10))\n",
    "plt.xlabel('Feature')\n",
    "plt.ylabel('Absolute Coefficient')\n",
    "plt.title(f'Lasso Feature Importances [Lasso Model with alpha={best_alpha}]')\n",
    "plt.xticks(rotation=90)\n",
    "plt.show()"
   ]
  },
  {
   "cell_type": "markdown",
   "id": "52b57bb6-4a81-4ae6-bb29-c791c045577b",
   "metadata": {
    "tags": []
   },
   "source": [
    "# Feature Selection"
   ]
  },
  {
   "cell_type": "code",
   "execution_count": 66,
   "id": "eab42209-41f0-4d4e-acff-9b0ff81db513",
   "metadata": {
    "tags": []
   },
   "outputs": [
    {
     "data": {
      "text/plain": [
       "(7385, 66)"
      ]
     },
     "execution_count": 66,
     "metadata": {},
     "output_type": "execute_result"
    }
   ],
   "source": [
    "X_encoded.shape"
   ]
  },
  {
   "cell_type": "markdown",
   "id": "99dd3ab3-7e0a-47bc-b345-9f4519303bcb",
   "metadata": {
    "tags": []
   },
   "source": [
    "**Currently we have 66 features**  \n",
    "**Lets iterate Lasso Regularization over different number of features** "
   ]
  },
  {
   "cell_type": "code",
   "execution_count": 67,
   "id": "d8db4d35-9fba-4a4c-a97e-ca6c0a9aa919",
   "metadata": {
    "tags": []
   },
   "outputs": [
    {
     "data": {
      "text/html": [
       "<div>\n",
       "<style scoped>\n",
       "    .dataframe tbody tr th:only-of-type {\n",
       "        vertical-align: middle;\n",
       "    }\n",
       "\n",
       "    .dataframe tbody tr th {\n",
       "        vertical-align: top;\n",
       "    }\n",
       "\n",
       "    .dataframe thead th {\n",
       "        text-align: right;\n",
       "    }\n",
       "</style>\n",
       "<table border=\"1\" class=\"dataframe\">\n",
       "  <thead>\n",
       "    <tr style=\"text-align: right;\">\n",
       "      <th></th>\n",
       "      <th>10_features_train</th>\n",
       "      <th>10_features_test</th>\n",
       "    </tr>\n",
       "  </thead>\n",
       "  <tbody>\n",
       "    <tr>\n",
       "      <th>R2</th>\n",
       "      <td>0.992314</td>\n",
       "      <td>0.991012</td>\n",
       "    </tr>\n",
       "    <tr>\n",
       "      <th>mae</th>\n",
       "      <td>2.997590</td>\n",
       "      <td>3.103922</td>\n",
       "    </tr>\n",
       "    <tr>\n",
       "      <th>mse</th>\n",
       "      <td>26.317381</td>\n",
       "      <td>30.620724</td>\n",
       "    </tr>\n",
       "    <tr>\n",
       "      <th>rmse</th>\n",
       "      <td>5.130047</td>\n",
       "      <td>5.533600</td>\n",
       "    </tr>\n",
       "  </tbody>\n",
       "</table>\n",
       "</div>"
      ],
      "text/plain": [
       "      10_features_train  10_features_test\n",
       "R2             0.992314          0.991012\n",
       "mae            2.997590          3.103922\n",
       "mse           26.317381         30.620724\n",
       "rmse           5.130047          5.533600"
      ]
     },
     "execution_count": 67,
     "metadata": {},
     "output_type": "execute_result"
    }
   ],
   "source": [
    "selected_scores = {}\n",
    "\n",
    "for n in [3, 5, 10, 20, 30, 40, 66]:\n",
    "    features_selected = list(importances_df.head(n)['Feature'].values)\n",
    "    X_selected = pd.DataFrame(X_encoded, columns=X_encoded.columns)[features_selected]\n",
    "    \n",
    "    X_train, X_test, y_train, y_test = train_test_split(X_selected, y, test_size=0.1, random_state=42)\n",
    "    final_scaler = StandardScaler()\n",
    "    X_train_scaled = final_scaler.fit_transform(X_train)\n",
    "    X_test_scaled = final_scaler.transform(X_test)\n",
    "    \n",
    "    model_n_lasso = Lasso(alpha=best_alpha, random_state=42)\n",
    "    model_n_lasso.fit(X_train_scaled, y_train)\n",
    "    y_pred = model_n_lasso.predict(X_test_scaled)\n",
    "    y_train_pred = model_n_lasso.predict(X_train_scaled)\n",
    "    \n",
    "    selected_scores[str(n)] = train_val(y_train, y_train_pred, y_test, y_pred, str(n)+'_features')\n",
    "\n",
    "selected_scores['10']"
   ]
  },
  {
   "cell_type": "code",
   "execution_count": 68,
   "id": "0cdda849-dbfb-40d5-9a8c-ed2e185d4f73",
   "metadata": {
    "tags": []
   },
   "outputs": [
    {
     "data": {
      "text/plain": [
       "[3, 5, 10, 20, 30, 40, 66]"
      ]
     },
     "execution_count": 68,
     "metadata": {},
     "output_type": "execute_result"
    }
   ],
   "source": [
    "r2_scores = [selected_scores[key].iloc[0,1] for key in selected_scores] \n",
    "rmse_scores = [selected_scores[key].iloc[3,1] for key in selected_scores]\n",
    "feature_quantities = [int(key) for key in selected_scores.keys()]\n",
    "feature_quantities"
   ]
  },
  {
   "cell_type": "code",
   "execution_count": 69,
   "id": "0a7cdefa-0e52-4848-b602-320ce67e0e0e",
   "metadata": {
    "tags": []
   },
   "outputs": [
    {
     "data": {
      "image/png": "[encoded data removed]",
      "text/plain": [
       "<Figure size 640x480 with 2 Axes>"
      ]
     },
     "metadata": {},
     "output_type": "display_data"
    }
   ],
   "source": [
    "fig, ax1 = plt.subplots()\n",
    "\n",
    "# Plot R2 Test scores\n",
    "color = 'tab:blue'\n",
    "ax1.set_xlabel('Feature Number')\n",
    "ax1.set_ylabel('R2 Scores', color=color)\n",
    "ax1.plot(feature_quantities, r2_scores, marker='o', label='R2 Test', linestyle='dashed', color=color)\n",
    "ax1.tick_params(axis='y', labelcolor=color)\n",
    "ax1.legend(loc='upper left')\n",
    "\n",
    "# Create a second y-axis for RMSE scores\n",
    "ax2 = ax1.twinx()\n",
    "color = 'tab:red'\n",
    "ax2.set_ylabel('RMSE Scores', color=color)\n",
    "ax2.plot(feature_quantities, rmse_scores, marker='x', label='RMSE Test', linestyle='dashed', color=color)\n",
    "ax2.tick_params(axis='y', labelcolor=color)\n",
    "ax2.legend(loc='upper right')\n",
    "\n",
    "plt.title('R2 and RMSE Scores vs. Feature Number')\n",
    "plt.show()"
   ]
  },
  {
   "cell_type": "markdown",
   "id": "6a670546-67d9-4965-aff3-668a08422a5c",
   "metadata": {},
   "source": [
    "__As we see above in the graph, as number of features increase the scores are getting better.__  \n",
    "__However, after 10 features, the scores are only getting very slightly better but the cost of collecting data is increasing on the other hand.__  \n",
    "__Therefore we continue to our final model with 10 features__"
   ]
  },
  {
   "cell_type": "markdown",
   "id": "15eea8fb-8133-4bca-b96a-25cf2e0d101a",
   "metadata": {},
   "source": [
    "# Final Model"
   ]
  },
  {
   "cell_type": "code",
   "execution_count": 70,
   "id": "a4d722d1-610c-4e11-ab72-a4074db6f29b",
   "metadata": {
    "tags": []
   },
   "outputs": [],
   "source": [
    "n = 10"
   ]
  },
  {
   "cell_type": "code",
   "execution_count": 71,
   "id": "623d2ab0-6b89-40bf-8fc5-71a1f7f9c4b0",
   "metadata": {
    "tags": []
   },
   "outputs": [
    {
     "data": {
      "text/plain": [
       "array(['Fuel Consumption Comb (L/100 km)', 'Fuel Type_Ethanol (E85)',\n",
       "       'Fuel Type_Regular Gasoline', 'Fuel Type_Premium Gasoline',\n",
       "       'Fuel Type_Natural Gas', 'Engine Size(L)', 'Make_FORD',\n",
       "       'Vehicle Class_VAN - CARGO', 'Make_CHRYSLER',\n",
       "       'Vehicle Class_VAN - PASSENGER'], dtype=object)"
      ]
     },
     "execution_count": 71,
     "metadata": {},
     "output_type": "execute_result"
    }
   ],
   "source": [
    "features_selected = importances_df.head(n)['Feature'].values\n",
    "features_selected"
   ]
  },
  {
   "cell_type": "code",
   "execution_count": 72,
   "id": "649ac7a7-fbb5-4ae3-8386-ec705bf0eabe",
   "metadata": {
    "tags": []
   },
   "outputs": [
    {
     "data": {
      "text/html": [
       "<style>#sk-container-id-9 {color: black;background-color: white;}#sk-container-id-9 pre{padding: 0;}#sk-container-id-9 div.sk-toggleable {background-color: white;}#sk-container-id-9 label.sk-toggleable__label {cursor: pointer;display: block;width: 100%;margin-bottom: 0;padding: 0.3em;box-sizing: border-box;text-align: center;}#sk-container-id-9 label.sk-toggleable__label-arrow:before {content: \"▸\";float: left;margin-right: 0.25em;color: #696969;}#sk-container-id-9 label.sk-toggleable__label-arrow:hover:before {color: black;}#sk-container-id-9 div.sk-estimator:hover label.sk-toggleable__label-arrow:before {color: black;}#sk-container-id-9 div.sk-toggleable__content {max-height: 0;max-width: 0;overflow: hidden;text-align: left;background-color: #f0f8ff;}#sk-container-id-9 div.sk-toggleable__content pre {margin: 0.2em;color: black;border-radius: 0.25em;background-color: #f0f8ff;}#sk-container-id-9 input.sk-toggleable__control:checked~div.sk-toggleable__content {max-height: 200px;max-width: 100%;overflow: auto;}#sk-container-id-9 input.sk-toggleable__control:checked~label.sk-toggleable__label-arrow:before {content: \"▾\";}#sk-container-id-9 div.sk-estimator input.sk-toggleable__control:checked~label.sk-toggleable__label {background-color: #d4ebff;}#sk-container-id-9 div.sk-label input.sk-toggleable__control:checked~label.sk-toggleable__label {background-color: #d4ebff;}#sk-container-id-9 input.sk-hidden--visually {border: 0;clip: rect(1px 1px 1px 1px);clip: rect(1px, 1px, 1px, 1px);height: 1px;margin: -1px;overflow: hidden;padding: 0;position: absolute;width: 1px;}#sk-container-id-9 div.sk-estimator {font-family: monospace;background-color: #f0f8ff;border: 1px dotted black;border-radius: 0.25em;box-sizing: border-box;margin-bottom: 0.5em;}#sk-container-id-9 div.sk-estimator:hover {background-color: #d4ebff;}#sk-container-id-9 div.sk-parallel-item::after {content: \"\";width: 100%;border-bottom: 1px solid gray;flex-grow: 1;}#sk-container-id-9 div.sk-label:hover label.sk-toggleable__label {background-color: #d4ebff;}#sk-container-id-9 div.sk-serial::before {content: \"\";position: absolute;border-left: 1px solid gray;box-sizing: border-box;top: 0;bottom: 0;left: 50%;z-index: 0;}#sk-container-id-9 div.sk-serial {display: flex;flex-direction: column;align-items: center;background-color: white;padding-right: 0.2em;padding-left: 0.2em;position: relative;}#sk-container-id-9 div.sk-item {position: relative;z-index: 1;}#sk-container-id-9 div.sk-parallel {display: flex;align-items: stretch;justify-content: center;background-color: white;position: relative;}#sk-container-id-9 div.sk-item::before, #sk-container-id-9 div.sk-parallel-item::before {content: \"\";position: absolute;border-left: 1px solid gray;box-sizing: border-box;top: 0;bottom: 0;left: 50%;z-index: -1;}#sk-container-id-9 div.sk-parallel-item {display: flex;flex-direction: column;z-index: 1;position: relative;background-color: white;}#sk-container-id-9 div.sk-parallel-item:first-child::after {align-self: flex-end;width: 50%;}#sk-container-id-9 div.sk-parallel-item:last-child::after {align-self: flex-start;width: 50%;}#sk-container-id-9 div.sk-parallel-item:only-child::after {width: 0;}#sk-container-id-9 div.sk-dashed-wrapped {border: 1px dashed gray;margin: 0 0.4em 0.5em 0.4em;box-sizing: border-box;padding-bottom: 0.4em;background-color: white;}#sk-container-id-9 div.sk-label label {font-family: monospace;font-weight: bold;display: inline-block;line-height: 1.2em;}#sk-container-id-9 div.sk-label-container {text-align: center;}#sk-container-id-9 div.sk-container {/* jupyter's `normalize.less` sets `[hidden] { display: none; }` but bootstrap.min.css set `[hidden] { display: none !important; }` so we also need the `!important` here to be able to override the default hidden behavior on the sphinx rendered scikit-learn.org. See: https://github.com/scikit-learn/scikit-learn/issues/21755 */display: inline-block !important;position: relative;}#sk-container-id-9 div.sk-text-repr-fallback {display: none;}</style><div id=\"sk-container-id-9\" class=\"sk-top-container\"><div class=\"sk-text-repr-fallback\"><pre>Lasso(alpha=0.001, random_state=42)</pre><b>In a Jupyter environment, please rerun this cell to show the HTML representation or trust the notebook. <br />On GitHub, the HTML representation is unable to render, please try loading this page with nbviewer.org.</b></div><div class=\"sk-container\" hidden><div class=\"sk-item\"><div class=\"sk-estimator sk-toggleable\"><input class=\"sk-toggleable__control sk-hidden--visually\" id=\"sk-estimator-id-9\" type=\"checkbox\" checked><label for=\"sk-estimator-id-9\" class=\"sk-toggleable__label sk-toggleable__label-arrow\">Lasso</label><div class=\"sk-toggleable__content\"><pre>Lasso(alpha=0.001, random_state=42)</pre></div></div></div></div></div>"
      ],
      "text/plain": [
       "Lasso(alpha=0.001, random_state=42)"
      ]
     },
     "execution_count": 72,
     "metadata": {},
     "output_type": "execute_result"
    }
   ],
   "source": [
    "X_selected = pd.DataFrame(X_encoded, columns=X_encoded.columns)[features_selected]\n",
    "final_scaler = StandardScaler()\n",
    "X_selected_scaled = final_scaler.fit_transform(X_selected)\n",
    "\n",
    "final_model = Lasso(alpha=best_alpha, random_state=42)\n",
    "final_model.fit(X_selected_scaled, y)"
   ]
  }
 ],
 "metadata": {
  "kernelspec": {
   "display_name": "Python 3 (ipykernel)",
   "language": "python",
   "name": "python3"
  },
  "language_info": {
   "codemirror_mode": {
    "name": "ipython",
    "version": 3
   },
   "file_extension": ".py",
   "mimetype": "text/x-python",
   "name": "python",
   "nbconvert_exporter": "python",
   "pygments_lexer": "ipython3",
   "version": "3.10.8"
  }
 },
 "nbformat": 4,
 "nbformat_minor": 5
}
